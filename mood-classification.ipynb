{
 "cells": [
  {
   "cell_type": "markdown",
   "source": [
    "# Classification of songs based on mood\n",
    "This notebook is used to classify songs based on mood, using most of the metrics Spotify provides for each song.\n",
    "The data used to train the model were found in [this repository](https://github.com/cristobalvch/Spotify-Machine-Learning/blob/master/data/data_moods.csv).\n",
    "The data is from the warehouse we created and was exported to an Excel file called songs_warehouse.xlsx."
   ],
   "metadata": {
    "collapsed": false
   },
   "id": "8c2e530c89307a93"
  },
  {
   "cell_type": "markdown",
   "source": [
    "## Import libraries"
   ],
   "metadata": {
    "collapsed": false
   },
   "id": "17349883d058b705"
  },
  {
   "cell_type": "code",
   "outputs": [],
   "source": [
    "import pandas as pd\n",
    "from sklearn import svm\n",
    "from sklearn.model_selection import train_test_split\n",
    "from sklearn.preprocessing import StandardScaler"
   ],
   "metadata": {
    "collapsed": false,
    "ExecuteTime": {
     "end_time": "2024-02-04T19:24:04.839450300Z",
     "start_time": "2024-02-04T19:24:01.841051800Z"
    }
   },
   "id": "4d5c61489225270",
   "execution_count": 1
  },
  {
   "cell_type": "markdown",
   "source": [
    "## Load the data"
   ],
   "metadata": {
    "collapsed": false
   },
   "id": "5b0c05c31e56b3c0"
  },
  {
   "cell_type": "code",
   "outputs": [
    {
     "data": {
      "text/plain": "                                           name                        album  \\\n0                                          1999                         1999   \n1                                            23                           23   \n2                                      9 Crimes                            9   \n3                                99 Luftballons               99 Luftballons   \n4   A Boy Brushed Red Living In Black And White  They're Only Chasing Safety   \n..                                          ...                          ...   \n95                                  Clear Skies                  Clear Skies   \n96                             Click Click Boom            Every Six Seconds   \n97                                         Coda                    Endeavour   \n98                                    Cold Arms                  Wilder Mind   \n99                                  Cold Nights                  Cold Nights   \n\n            artist                      id release_date  popularity  length  \\\n0           Prince  2H7PHVdQ3mXqEHXcvclTB0   1982-10-27          68  379266   \n1   Blonde Redhead  4HIwL9ii9CcXpTOTzMq0MP   2007-04-16          43  318800   \n2      Damien Rice  5GZEeowhvSieFDiR8fQ2im   2006-11-06          60  217946   \n3             Nena  6HA97v4wEGQ5TUClRM0XLc   1984-08-21           2  233000   \n4        Underoath  47IWLfIKOKhFnz1FUEUIkE   2004-01-01          60  268000   \n..             ...                     ...          ...         ...     ...   \n95   Dhyana Thomas  7bKMZYXVYzGMvnHiRDCmjy   2019-04-26          51  162085   \n96          Saliva  1LMVGL3030W3mGmRrd2hCm   2001-01-01           0  252400   \n97    Jakob Ahlbom  2TFQPFUqRtgj1auq9b5PlR   2019-10-04          58  180614   \n98  Mumford & Sons  7kpZ9isu48poYKpaAb0wiR   2015-05-01           0  169906   \n99    Camo Columbo  1q3AoLCoawd8Gpm9wP7sHi   2020-01-03          51  189813   \n\n    danceability  acousticness  energy  instrumentalness  liveness  valence  \\\n0          0.866       0.13700   0.730          0.000000    0.0843   0.6250   \n1          0.381       0.01890   0.832          0.196000    0.1530   0.1660   \n2          0.346       0.91300   0.139          0.000077    0.0934   0.1160   \n3          0.466       0.08900   0.438          0.000006    0.1130   0.5870   \n4          0.419       0.00171   0.932          0.000000    0.1370   0.4450   \n..           ...           ...     ...               ...       ...      ...   \n95         0.421       0.94000   0.136          0.890000    0.1130   0.0505   \n96         0.607       0.00259   0.935          0.000221    0.1950   0.5100   \n97         0.351       0.93000   0.240          0.904000    0.1010   0.0968   \n98         0.431       0.81500   0.144          0.000001    0.1240   0.0491   \n99         0.941       0.32100   0.421          0.000093    0.0967   0.7870   \n\n    loudness  speechiness    tempo  key  time_signature       mood  \n0     -8.201       0.0767  118.523    5               4      Happy  \n1     -5.069       0.0492  120.255    8               4        Sad  \n2    -15.326       0.0321  136.168    0               4        Sad  \n3    -12.858       0.0608  193.100    4               4      Happy  \n4     -3.604       0.1060  169.881    1               4  Energetic  \n..       ...          ...      ...  ...             ...        ...  \n95   -23.521       0.0305  110.036   11               4       Calm  \n96    -2.918       0.0506   95.970    6               4  Energetic  \n97   -15.363       0.0340   79.919    9               3       Calm  \n98   -12.070       0.0390  137.683   11               4        Sad  \n99    -7.918       0.0583  107.011   11               4        Sad  \n\n[100 rows x 19 columns]",
      "text/html": "<div>\n<style scoped>\n    .dataframe tbody tr th:only-of-type {\n        vertical-align: middle;\n    }\n\n    .dataframe tbody tr th {\n        vertical-align: top;\n    }\n\n    .dataframe thead th {\n        text-align: right;\n    }\n</style>\n<table border=\"1\" class=\"dataframe\">\n  <thead>\n    <tr style=\"text-align: right;\">\n      <th></th>\n      <th>name</th>\n      <th>album</th>\n      <th>artist</th>\n      <th>id</th>\n      <th>release_date</th>\n      <th>popularity</th>\n      <th>length</th>\n      <th>danceability</th>\n      <th>acousticness</th>\n      <th>energy</th>\n      <th>instrumentalness</th>\n      <th>liveness</th>\n      <th>valence</th>\n      <th>loudness</th>\n      <th>speechiness</th>\n      <th>tempo</th>\n      <th>key</th>\n      <th>time_signature</th>\n      <th>mood</th>\n    </tr>\n  </thead>\n  <tbody>\n    <tr>\n      <th>0</th>\n      <td>1999</td>\n      <td>1999</td>\n      <td>Prince</td>\n      <td>2H7PHVdQ3mXqEHXcvclTB0</td>\n      <td>1982-10-27</td>\n      <td>68</td>\n      <td>379266</td>\n      <td>0.866</td>\n      <td>0.13700</td>\n      <td>0.730</td>\n      <td>0.000000</td>\n      <td>0.0843</td>\n      <td>0.6250</td>\n      <td>-8.201</td>\n      <td>0.0767</td>\n      <td>118.523</td>\n      <td>5</td>\n      <td>4</td>\n      <td>Happy</td>\n    </tr>\n    <tr>\n      <th>1</th>\n      <td>23</td>\n      <td>23</td>\n      <td>Blonde Redhead</td>\n      <td>4HIwL9ii9CcXpTOTzMq0MP</td>\n      <td>2007-04-16</td>\n      <td>43</td>\n      <td>318800</td>\n      <td>0.381</td>\n      <td>0.01890</td>\n      <td>0.832</td>\n      <td>0.196000</td>\n      <td>0.1530</td>\n      <td>0.1660</td>\n      <td>-5.069</td>\n      <td>0.0492</td>\n      <td>120.255</td>\n      <td>8</td>\n      <td>4</td>\n      <td>Sad</td>\n    </tr>\n    <tr>\n      <th>2</th>\n      <td>9 Crimes</td>\n      <td>9</td>\n      <td>Damien Rice</td>\n      <td>5GZEeowhvSieFDiR8fQ2im</td>\n      <td>2006-11-06</td>\n      <td>60</td>\n      <td>217946</td>\n      <td>0.346</td>\n      <td>0.91300</td>\n      <td>0.139</td>\n      <td>0.000077</td>\n      <td>0.0934</td>\n      <td>0.1160</td>\n      <td>-15.326</td>\n      <td>0.0321</td>\n      <td>136.168</td>\n      <td>0</td>\n      <td>4</td>\n      <td>Sad</td>\n    </tr>\n    <tr>\n      <th>3</th>\n      <td>99 Luftballons</td>\n      <td>99 Luftballons</td>\n      <td>Nena</td>\n      <td>6HA97v4wEGQ5TUClRM0XLc</td>\n      <td>1984-08-21</td>\n      <td>2</td>\n      <td>233000</td>\n      <td>0.466</td>\n      <td>0.08900</td>\n      <td>0.438</td>\n      <td>0.000006</td>\n      <td>0.1130</td>\n      <td>0.5870</td>\n      <td>-12.858</td>\n      <td>0.0608</td>\n      <td>193.100</td>\n      <td>4</td>\n      <td>4</td>\n      <td>Happy</td>\n    </tr>\n    <tr>\n      <th>4</th>\n      <td>A Boy Brushed Red Living In Black And White</td>\n      <td>They're Only Chasing Safety</td>\n      <td>Underoath</td>\n      <td>47IWLfIKOKhFnz1FUEUIkE</td>\n      <td>2004-01-01</td>\n      <td>60</td>\n      <td>268000</td>\n      <td>0.419</td>\n      <td>0.00171</td>\n      <td>0.932</td>\n      <td>0.000000</td>\n      <td>0.1370</td>\n      <td>0.4450</td>\n      <td>-3.604</td>\n      <td>0.1060</td>\n      <td>169.881</td>\n      <td>1</td>\n      <td>4</td>\n      <td>Energetic</td>\n    </tr>\n    <tr>\n      <th>...</th>\n      <td>...</td>\n      <td>...</td>\n      <td>...</td>\n      <td>...</td>\n      <td>...</td>\n      <td>...</td>\n      <td>...</td>\n      <td>...</td>\n      <td>...</td>\n      <td>...</td>\n      <td>...</td>\n      <td>...</td>\n      <td>...</td>\n      <td>...</td>\n      <td>...</td>\n      <td>...</td>\n      <td>...</td>\n      <td>...</td>\n      <td>...</td>\n    </tr>\n    <tr>\n      <th>95</th>\n      <td>Clear Skies</td>\n      <td>Clear Skies</td>\n      <td>Dhyana Thomas</td>\n      <td>7bKMZYXVYzGMvnHiRDCmjy</td>\n      <td>2019-04-26</td>\n      <td>51</td>\n      <td>162085</td>\n      <td>0.421</td>\n      <td>0.94000</td>\n      <td>0.136</td>\n      <td>0.890000</td>\n      <td>0.1130</td>\n      <td>0.0505</td>\n      <td>-23.521</td>\n      <td>0.0305</td>\n      <td>110.036</td>\n      <td>11</td>\n      <td>4</td>\n      <td>Calm</td>\n    </tr>\n    <tr>\n      <th>96</th>\n      <td>Click Click Boom</td>\n      <td>Every Six Seconds</td>\n      <td>Saliva</td>\n      <td>1LMVGL3030W3mGmRrd2hCm</td>\n      <td>2001-01-01</td>\n      <td>0</td>\n      <td>252400</td>\n      <td>0.607</td>\n      <td>0.00259</td>\n      <td>0.935</td>\n      <td>0.000221</td>\n      <td>0.1950</td>\n      <td>0.5100</td>\n      <td>-2.918</td>\n      <td>0.0506</td>\n      <td>95.970</td>\n      <td>6</td>\n      <td>4</td>\n      <td>Energetic</td>\n    </tr>\n    <tr>\n      <th>97</th>\n      <td>Coda</td>\n      <td>Endeavour</td>\n      <td>Jakob Ahlbom</td>\n      <td>2TFQPFUqRtgj1auq9b5PlR</td>\n      <td>2019-10-04</td>\n      <td>58</td>\n      <td>180614</td>\n      <td>0.351</td>\n      <td>0.93000</td>\n      <td>0.240</td>\n      <td>0.904000</td>\n      <td>0.1010</td>\n      <td>0.0968</td>\n      <td>-15.363</td>\n      <td>0.0340</td>\n      <td>79.919</td>\n      <td>9</td>\n      <td>3</td>\n      <td>Calm</td>\n    </tr>\n    <tr>\n      <th>98</th>\n      <td>Cold Arms</td>\n      <td>Wilder Mind</td>\n      <td>Mumford &amp; Sons</td>\n      <td>7kpZ9isu48poYKpaAb0wiR</td>\n      <td>2015-05-01</td>\n      <td>0</td>\n      <td>169906</td>\n      <td>0.431</td>\n      <td>0.81500</td>\n      <td>0.144</td>\n      <td>0.000001</td>\n      <td>0.1240</td>\n      <td>0.0491</td>\n      <td>-12.070</td>\n      <td>0.0390</td>\n      <td>137.683</td>\n      <td>11</td>\n      <td>4</td>\n      <td>Sad</td>\n    </tr>\n    <tr>\n      <th>99</th>\n      <td>Cold Nights</td>\n      <td>Cold Nights</td>\n      <td>Camo Columbo</td>\n      <td>1q3AoLCoawd8Gpm9wP7sHi</td>\n      <td>2020-01-03</td>\n      <td>51</td>\n      <td>189813</td>\n      <td>0.941</td>\n      <td>0.32100</td>\n      <td>0.421</td>\n      <td>0.000093</td>\n      <td>0.0967</td>\n      <td>0.7870</td>\n      <td>-7.918</td>\n      <td>0.0583</td>\n      <td>107.011</td>\n      <td>11</td>\n      <td>4</td>\n      <td>Sad</td>\n    </tr>\n  </tbody>\n</table>\n<p>100 rows × 19 columns</p>\n</div>"
     },
     "execution_count": 2,
     "metadata": {},
     "output_type": "execute_result"
    }
   ],
   "source": [
    "# Load the data\n",
    "df = pd.read_csv('data/data_moods.csv')\n",
    "df.head(100)"
   ],
   "metadata": {
    "collapsed": false,
    "ExecuteTime": {
     "end_time": "2024-02-04T19:24:04.869383Z",
     "start_time": "2024-02-04T19:24:04.840450500Z"
    }
   },
   "id": "725123df297715d7",
   "execution_count": 2
  },
  {
   "cell_type": "code",
   "outputs": [],
   "source": [
    "# read the data from songs_warehouse.xlsx\n",
    "df2 = pd.read_excel('data/songs_warehouse.xlsx', sheet_name='song_dimension')\n",
    "artistID = pd.read_excel('data/songs_warehouse.xlsx', sheet_name='artist_of_song')"
   ],
   "metadata": {
    "collapsed": false,
    "ExecuteTime": {
     "end_time": "2024-02-04T19:24:06.363377100Z",
     "start_time": "2024-02-04T19:24:04.865381400Z"
    }
   },
   "id": "97131814a771c9bd",
   "execution_count": 3
  },
  {
   "cell_type": "markdown",
   "source": [
    "## Drop unnecessary columns"
   ],
   "metadata": {
    "collapsed": false
   },
   "id": "655f097ded46f4a0"
  },
  {
   "cell_type": "code",
   "outputs": [
    {
     "data": {
      "text/plain": "   id_song        label_spotify_id                           label_name  \\\n0       42  03Dpt8Z4Zww4NGJb8503zb  Do They Know It's Christmas? - 2014   \n1      128  0a0zPUrwviAua4IhhaYUsP                              Ajándék   \n2      182  0cVyQfDyRnMJ0V3rjjdlU3                        Lil Boo Thang   \n3      270  0gq4UgDPGFdqpsWshU7dmv               Vanavond (Uit M'n Bol)   \n4      289  0hI4TphLTs4ar0mQ8t0dLf                 Мой счастливый билет   \n\n   label_is_explicit        label_album_name label_album_release_date  \\\n0              False     Pop Christmas Songs               2018-11-09   \n1              False         Duett Karácsony               2009-01-01   \n2              False           Lil Boo Thang               2023-08-18   \n3              False  Vanavond (Uit M'n Bol)               2022-03-25   \n4              False    Мой счастливый билет               2023-02-24   \n\n   label_danceability  label_energy  label_loudness  label_speechiness  \\\n0               0.626         0.541          -7.615             0.0308   \n1               0.668         0.864          -4.404             0.0343   \n2               0.850         0.699          -3.292             0.0776   \n3               0.799         0.705          -7.582             0.0698   \n4               0.783         0.524          -6.772             0.1300   \n\n   label_acousticness  label_instrumentalness  label_liveness  label_valence  \\\n0              0.3520                     0.0           0.119          0.255   \n1              0.0473                     0.0           0.105          0.593   \n2              0.1520                     0.0           0.320          0.915   \n3              0.0554                     0.0           0.426          0.880   \n4              0.6330                     0.0           0.189          0.470   \n\n   label_tempo  \n0   112.000999  \n1   102.014000  \n2   114.481003  \n3   106.978996  \n4   110.035004  ",
      "text/html": "<div>\n<style scoped>\n    .dataframe tbody tr th:only-of-type {\n        vertical-align: middle;\n    }\n\n    .dataframe tbody tr th {\n        vertical-align: top;\n    }\n\n    .dataframe thead th {\n        text-align: right;\n    }\n</style>\n<table border=\"1\" class=\"dataframe\">\n  <thead>\n    <tr style=\"text-align: right;\">\n      <th></th>\n      <th>id_song</th>\n      <th>label_spotify_id</th>\n      <th>label_name</th>\n      <th>label_is_explicit</th>\n      <th>label_album_name</th>\n      <th>label_album_release_date</th>\n      <th>label_danceability</th>\n      <th>label_energy</th>\n      <th>label_loudness</th>\n      <th>label_speechiness</th>\n      <th>label_acousticness</th>\n      <th>label_instrumentalness</th>\n      <th>label_liveness</th>\n      <th>label_valence</th>\n      <th>label_tempo</th>\n    </tr>\n  </thead>\n  <tbody>\n    <tr>\n      <th>0</th>\n      <td>42</td>\n      <td>03Dpt8Z4Zww4NGJb8503zb</td>\n      <td>Do They Know It's Christmas? - 2014</td>\n      <td>False</td>\n      <td>Pop Christmas Songs</td>\n      <td>2018-11-09</td>\n      <td>0.626</td>\n      <td>0.541</td>\n      <td>-7.615</td>\n      <td>0.0308</td>\n      <td>0.3520</td>\n      <td>0.0</td>\n      <td>0.119</td>\n      <td>0.255</td>\n      <td>112.000999</td>\n    </tr>\n    <tr>\n      <th>1</th>\n      <td>128</td>\n      <td>0a0zPUrwviAua4IhhaYUsP</td>\n      <td>Ajándék</td>\n      <td>False</td>\n      <td>Duett Karácsony</td>\n      <td>2009-01-01</td>\n      <td>0.668</td>\n      <td>0.864</td>\n      <td>-4.404</td>\n      <td>0.0343</td>\n      <td>0.0473</td>\n      <td>0.0</td>\n      <td>0.105</td>\n      <td>0.593</td>\n      <td>102.014000</td>\n    </tr>\n    <tr>\n      <th>2</th>\n      <td>182</td>\n      <td>0cVyQfDyRnMJ0V3rjjdlU3</td>\n      <td>Lil Boo Thang</td>\n      <td>False</td>\n      <td>Lil Boo Thang</td>\n      <td>2023-08-18</td>\n      <td>0.850</td>\n      <td>0.699</td>\n      <td>-3.292</td>\n      <td>0.0776</td>\n      <td>0.1520</td>\n      <td>0.0</td>\n      <td>0.320</td>\n      <td>0.915</td>\n      <td>114.481003</td>\n    </tr>\n    <tr>\n      <th>3</th>\n      <td>270</td>\n      <td>0gq4UgDPGFdqpsWshU7dmv</td>\n      <td>Vanavond (Uit M'n Bol)</td>\n      <td>False</td>\n      <td>Vanavond (Uit M'n Bol)</td>\n      <td>2022-03-25</td>\n      <td>0.799</td>\n      <td>0.705</td>\n      <td>-7.582</td>\n      <td>0.0698</td>\n      <td>0.0554</td>\n      <td>0.0</td>\n      <td>0.426</td>\n      <td>0.880</td>\n      <td>106.978996</td>\n    </tr>\n    <tr>\n      <th>4</th>\n      <td>289</td>\n      <td>0hI4TphLTs4ar0mQ8t0dLf</td>\n      <td>Мой счастливый билет</td>\n      <td>False</td>\n      <td>Мой счастливый билет</td>\n      <td>2023-02-24</td>\n      <td>0.783</td>\n      <td>0.524</td>\n      <td>-6.772</td>\n      <td>0.1300</td>\n      <td>0.6330</td>\n      <td>0.0</td>\n      <td>0.189</td>\n      <td>0.470</td>\n      <td>110.035004</td>\n    </tr>\n  </tbody>\n</table>\n</div>"
     },
     "execution_count": 4,
     "metadata": {},
     "output_type": "execute_result"
    }
   ],
   "source": [
    "# drop columns label_key, label_mode, label_time_signature, label_duration_ms\n",
    "df2 = df2.drop(['label_key', 'label_mode', 'label_time_signature', 'label_duration_ms'], axis=1)\n",
    "df2.head()"
   ],
   "metadata": {
    "collapsed": false,
    "ExecuteTime": {
     "end_time": "2024-02-04T19:24:06.374697200Z",
     "start_time": "2024-02-04T19:24:06.365035300Z"
    }
   },
   "id": "7d4a4cddd3f93042",
   "execution_count": 4
  },
  {
   "cell_type": "code",
   "outputs": [
    {
     "data": {
      "text/plain": "   id_song        label_spotify_id                           label_name  \\\n0       42  03Dpt8Z4Zww4NGJb8503zb  Do They Know It's Christmas? - 2014   \n1      128  0a0zPUrwviAua4IhhaYUsP                              Ajándék   \n2      182  0cVyQfDyRnMJ0V3rjjdlU3                        Lil Boo Thang   \n3      270  0gq4UgDPGFdqpsWshU7dmv               Vanavond (Uit M'n Bol)   \n4      289  0hI4TphLTs4ar0mQ8t0dLf                 Мой счастливый билет   \n\n   label_is_explicit        label_album_name label_album_release_date  \\\n0              False     Pop Christmas Songs               2018-11-09   \n1              False         Duett Karácsony               2009-01-01   \n2              False           Lil Boo Thang               2023-08-18   \n3              False  Vanavond (Uit M'n Bol)               2022-03-25   \n4              False    Мой счастливый билет               2023-02-24   \n\n   danceability  acousticness  energy  instrumentalness  liveness  valence  \\\n0         0.626        0.3520   0.541               0.0     0.119    0.255   \n1         0.668        0.0473   0.864               0.0     0.105    0.593   \n2         0.850        0.1520   0.699               0.0     0.320    0.915   \n3         0.799        0.0554   0.705               0.0     0.426    0.880   \n4         0.783        0.6330   0.524               0.0     0.189    0.470   \n\n   loudness  speechiness       tempo  \n0    -7.615       0.0308  112.000999  \n1    -4.404       0.0343  102.014000  \n2    -3.292       0.0776  114.481003  \n3    -7.582       0.0698  106.978996  \n4    -6.772       0.1300  110.035004  ",
      "text/html": "<div>\n<style scoped>\n    .dataframe tbody tr th:only-of-type {\n        vertical-align: middle;\n    }\n\n    .dataframe tbody tr th {\n        vertical-align: top;\n    }\n\n    .dataframe thead th {\n        text-align: right;\n    }\n</style>\n<table border=\"1\" class=\"dataframe\">\n  <thead>\n    <tr style=\"text-align: right;\">\n      <th></th>\n      <th>id_song</th>\n      <th>label_spotify_id</th>\n      <th>label_name</th>\n      <th>label_is_explicit</th>\n      <th>label_album_name</th>\n      <th>label_album_release_date</th>\n      <th>danceability</th>\n      <th>acousticness</th>\n      <th>energy</th>\n      <th>instrumentalness</th>\n      <th>liveness</th>\n      <th>valence</th>\n      <th>loudness</th>\n      <th>speechiness</th>\n      <th>tempo</th>\n    </tr>\n  </thead>\n  <tbody>\n    <tr>\n      <th>0</th>\n      <td>42</td>\n      <td>03Dpt8Z4Zww4NGJb8503zb</td>\n      <td>Do They Know It's Christmas? - 2014</td>\n      <td>False</td>\n      <td>Pop Christmas Songs</td>\n      <td>2018-11-09</td>\n      <td>0.626</td>\n      <td>0.3520</td>\n      <td>0.541</td>\n      <td>0.0</td>\n      <td>0.119</td>\n      <td>0.255</td>\n      <td>-7.615</td>\n      <td>0.0308</td>\n      <td>112.000999</td>\n    </tr>\n    <tr>\n      <th>1</th>\n      <td>128</td>\n      <td>0a0zPUrwviAua4IhhaYUsP</td>\n      <td>Ajándék</td>\n      <td>False</td>\n      <td>Duett Karácsony</td>\n      <td>2009-01-01</td>\n      <td>0.668</td>\n      <td>0.0473</td>\n      <td>0.864</td>\n      <td>0.0</td>\n      <td>0.105</td>\n      <td>0.593</td>\n      <td>-4.404</td>\n      <td>0.0343</td>\n      <td>102.014000</td>\n    </tr>\n    <tr>\n      <th>2</th>\n      <td>182</td>\n      <td>0cVyQfDyRnMJ0V3rjjdlU3</td>\n      <td>Lil Boo Thang</td>\n      <td>False</td>\n      <td>Lil Boo Thang</td>\n      <td>2023-08-18</td>\n      <td>0.850</td>\n      <td>0.1520</td>\n      <td>0.699</td>\n      <td>0.0</td>\n      <td>0.320</td>\n      <td>0.915</td>\n      <td>-3.292</td>\n      <td>0.0776</td>\n      <td>114.481003</td>\n    </tr>\n    <tr>\n      <th>3</th>\n      <td>270</td>\n      <td>0gq4UgDPGFdqpsWshU7dmv</td>\n      <td>Vanavond (Uit M'n Bol)</td>\n      <td>False</td>\n      <td>Vanavond (Uit M'n Bol)</td>\n      <td>2022-03-25</td>\n      <td>0.799</td>\n      <td>0.0554</td>\n      <td>0.705</td>\n      <td>0.0</td>\n      <td>0.426</td>\n      <td>0.880</td>\n      <td>-7.582</td>\n      <td>0.0698</td>\n      <td>106.978996</td>\n    </tr>\n    <tr>\n      <th>4</th>\n      <td>289</td>\n      <td>0hI4TphLTs4ar0mQ8t0dLf</td>\n      <td>Мой счастливый билет</td>\n      <td>False</td>\n      <td>Мой счастливый билет</td>\n      <td>2023-02-24</td>\n      <td>0.783</td>\n      <td>0.6330</td>\n      <td>0.524</td>\n      <td>0.0</td>\n      <td>0.189</td>\n      <td>0.470</td>\n      <td>-6.772</td>\n      <td>0.1300</td>\n      <td>110.035004</td>\n    </tr>\n  </tbody>\n</table>\n</div>"
     },
     "execution_count": 5,
     "metadata": {},
     "output_type": "execute_result"
    }
   ],
   "source": [
    "# rename the columns to match the ones in df\n",
    "df2 = df2.rename(columns={'label_danceability': 'danceability', 'label_energy': 'energy', 'label_speechiness': 'speechiness', 'label_acousticness': 'acousticness', 'label_instrumentalness': 'instrumentalness', 'label_liveness': 'liveness', 'label_valence': 'valence', 'label_tempo': 'tempo', 'label_loudness': 'loudness'})\n",
    "\n",
    "# rearrange the columns\n",
    "df2 = df2[['id_song', 'label_spotify_id', 'label_name', 'label_is_explicit', 'label_album_name','label_album_release_date', 'danceability', 'acousticness', 'energy', 'instrumentalness','liveness', 'valence', 'loudness', 'speechiness','tempo']]\n",
    "\n",
    "df2.head()"
   ],
   "metadata": {
    "collapsed": false,
    "ExecuteTime": {
     "end_time": "2024-02-04T19:24:06.411586400Z",
     "start_time": "2024-02-04T19:24:06.374697200Z"
    }
   },
   "id": "f22702d02c21d004",
   "execution_count": 5
  },
  {
   "cell_type": "markdown",
   "source": [
    "## Data selection"
   ],
   "metadata": {
    "collapsed": false
   },
   "id": "477705bc6085cd9c"
  },
  {
   "cell_type": "code",
   "outputs": [
    {
     "name": "stdout",
     "output_type": "stream",
     "text": [
      "Index(['danceability', 'acousticness', 'energy', 'instrumentalness',\n",
      "       'liveness', 'valence', 'loudness', 'speechiness', 'tempo'],\n",
      "      dtype='object')\n"
     ]
    }
   ],
   "source": [
    "# chose the columns to use as features\n",
    "col_features = df.columns[7:-3]\n",
    "print(col_features)"
   ],
   "metadata": {
    "collapsed": false,
    "ExecuteTime": {
     "end_time": "2024-02-04T19:24:06.432659300Z",
     "start_time": "2024-02-04T19:24:06.395243700Z"
    }
   },
   "id": "cde810be7915dbcd",
   "execution_count": 6
  },
  {
   "cell_type": "markdown",
   "source": [
    "## Data preprocessing"
   ],
   "metadata": {
    "collapsed": false
   },
   "id": "c083587d92c9e27d"
  },
  {
   "cell_type": "code",
   "outputs": [
    {
     "data": {
      "text/plain": "Sad          197\nCalm         195\nEnergetic    154\nHappy        140\nName: mood, dtype: int64"
     },
     "execution_count": 7,
     "metadata": {},
     "output_type": "execute_result"
    }
   ],
   "source": [
    "# show the number of songs for each mood\n",
    "df['mood'].value_counts()"
   ],
   "metadata": {
    "collapsed": false,
    "ExecuteTime": {
     "end_time": "2024-02-04T19:24:06.433660400Z",
     "start_time": "2024-02-04T19:24:06.400404100Z"
    }
   },
   "id": "4b090dbe5a965473",
   "execution_count": 7
  },
  {
   "cell_type": "markdown",
   "source": [
    "## Encode the mood column"
   ],
   "metadata": {
    "collapsed": false
   },
   "id": "c7954aa17fc762b1"
  },
  {
   "cell_type": "code",
   "outputs": [
    {
     "data": {
      "text/plain": "array(['Calm', 'Energetic', 'Happy', 'Sad'], dtype=object)"
     },
     "execution_count": 8,
     "metadata": {},
     "output_type": "execute_result"
    }
   ],
   "source": [
    "# encode the mood column\n",
    "from sklearn.preprocessing import LabelEncoder\n",
    "le = LabelEncoder()\n",
    "df['mood'] = le.fit_transform(df['mood'])\n",
    "# show the encoded values corresponding to each mood\n",
    "le.classes_"
   ],
   "metadata": {
    "collapsed": false,
    "ExecuteTime": {
     "end_time": "2024-02-04T19:24:06.434659500Z",
     "start_time": "2024-02-04T19:24:06.406526800Z"
    }
   },
   "id": "670d343cabb660c7",
   "execution_count": 8
  },
  {
   "cell_type": "markdown",
   "source": [
    "## Normalize the data and split into train and test"
   ],
   "metadata": {
    "collapsed": false
   },
   "id": "8b26ac75286aeacc"
  },
  {
   "cell_type": "code",
   "outputs": [],
   "source": [
    "# normalize the data\n",
    "scaler = StandardScaler()\n",
    "df[col_features] = scaler.fit_transform(df[col_features])\n",
    "df2[col_features] = scaler.fit_transform(df2[col_features])\n",
    "\n",
    "# split the data into train and test\n",
    "X_train, X_test, y_train, y_test = train_test_split(df[col_features], df['mood'], test_size=0.2, random_state=0)"
   ],
   "metadata": {
    "collapsed": false,
    "ExecuteTime": {
     "end_time": "2024-02-04T19:24:06.506219700Z",
     "start_time": "2024-02-04T19:24:06.411586400Z"
    }
   },
   "id": "df77f4d53551cc4c",
   "execution_count": 9
  },
  {
   "cell_type": "markdown",
   "source": [
    "## Create and train the model"
   ],
   "metadata": {
    "collapsed": false
   },
   "id": "d4f0ae166997abb9"
  },
  {
   "cell_type": "code",
   "outputs": [
    {
     "data": {
      "text/plain": "SVC(C=1000, gamma=0.001)",
      "text/html": "<style>#sk-container-id-1 {color: black;background-color: white;}#sk-container-id-1 pre{padding: 0;}#sk-container-id-1 div.sk-toggleable {background-color: white;}#sk-container-id-1 label.sk-toggleable__label {cursor: pointer;display: block;width: 100%;margin-bottom: 0;padding: 0.3em;box-sizing: border-box;text-align: center;}#sk-container-id-1 label.sk-toggleable__label-arrow:before {content: \"▸\";float: left;margin-right: 0.25em;color: #696969;}#sk-container-id-1 label.sk-toggleable__label-arrow:hover:before {color: black;}#sk-container-id-1 div.sk-estimator:hover label.sk-toggleable__label-arrow:before {color: black;}#sk-container-id-1 div.sk-toggleable__content {max-height: 0;max-width: 0;overflow: hidden;text-align: left;background-color: #f0f8ff;}#sk-container-id-1 div.sk-toggleable__content pre {margin: 0.2em;color: black;border-radius: 0.25em;background-color: #f0f8ff;}#sk-container-id-1 input.sk-toggleable__control:checked~div.sk-toggleable__content {max-height: 200px;max-width: 100%;overflow: auto;}#sk-container-id-1 input.sk-toggleable__control:checked~label.sk-toggleable__label-arrow:before {content: \"▾\";}#sk-container-id-1 div.sk-estimator input.sk-toggleable__control:checked~label.sk-toggleable__label {background-color: #d4ebff;}#sk-container-id-1 div.sk-label input.sk-toggleable__control:checked~label.sk-toggleable__label {background-color: #d4ebff;}#sk-container-id-1 input.sk-hidden--visually {border: 0;clip: rect(1px 1px 1px 1px);clip: rect(1px, 1px, 1px, 1px);height: 1px;margin: -1px;overflow: hidden;padding: 0;position: absolute;width: 1px;}#sk-container-id-1 div.sk-estimator {font-family: monospace;background-color: #f0f8ff;border: 1px dotted black;border-radius: 0.25em;box-sizing: border-box;margin-bottom: 0.5em;}#sk-container-id-1 div.sk-estimator:hover {background-color: #d4ebff;}#sk-container-id-1 div.sk-parallel-item::after {content: \"\";width: 100%;border-bottom: 1px solid gray;flex-grow: 1;}#sk-container-id-1 div.sk-label:hover label.sk-toggleable__label {background-color: #d4ebff;}#sk-container-id-1 div.sk-serial::before {content: \"\";position: absolute;border-left: 1px solid gray;box-sizing: border-box;top: 0;bottom: 0;left: 50%;z-index: 0;}#sk-container-id-1 div.sk-serial {display: flex;flex-direction: column;align-items: center;background-color: white;padding-right: 0.2em;padding-left: 0.2em;position: relative;}#sk-container-id-1 div.sk-item {position: relative;z-index: 1;}#sk-container-id-1 div.sk-parallel {display: flex;align-items: stretch;justify-content: center;background-color: white;position: relative;}#sk-container-id-1 div.sk-item::before, #sk-container-id-1 div.sk-parallel-item::before {content: \"\";position: absolute;border-left: 1px solid gray;box-sizing: border-box;top: 0;bottom: 0;left: 50%;z-index: -1;}#sk-container-id-1 div.sk-parallel-item {display: flex;flex-direction: column;z-index: 1;position: relative;background-color: white;}#sk-container-id-1 div.sk-parallel-item:first-child::after {align-self: flex-end;width: 50%;}#sk-container-id-1 div.sk-parallel-item:last-child::after {align-self: flex-start;width: 50%;}#sk-container-id-1 div.sk-parallel-item:only-child::after {width: 0;}#sk-container-id-1 div.sk-dashed-wrapped {border: 1px dashed gray;margin: 0 0.4em 0.5em 0.4em;box-sizing: border-box;padding-bottom: 0.4em;background-color: white;}#sk-container-id-1 div.sk-label label {font-family: monospace;font-weight: bold;display: inline-block;line-height: 1.2em;}#sk-container-id-1 div.sk-label-container {text-align: center;}#sk-container-id-1 div.sk-container {/* jupyter's `normalize.less` sets `[hidden] { display: none; }` but bootstrap.min.css set `[hidden] { display: none !important; }` so we also need the `!important` here to be able to override the default hidden behavior on the sphinx rendered scikit-learn.org. See: https://github.com/scikit-learn/scikit-learn/issues/21755 */display: inline-block !important;position: relative;}#sk-container-id-1 div.sk-text-repr-fallback {display: none;}</style><div id=\"sk-container-id-1\" class=\"sk-top-container\"><div class=\"sk-text-repr-fallback\"><pre>SVC(C=1000, gamma=0.001)</pre><b>In a Jupyter environment, please rerun this cell to show the HTML representation or trust the notebook. <br />On GitHub, the HTML representation is unable to render, please try loading this page with nbviewer.org.</b></div><div class=\"sk-container\" hidden><div class=\"sk-item\"><div class=\"sk-estimator sk-toggleable\"><input class=\"sk-toggleable__control sk-hidden--visually\" id=\"sk-estimator-id-1\" type=\"checkbox\" checked><label for=\"sk-estimator-id-1\" class=\"sk-toggleable__label sk-toggleable__label-arrow\">SVC</label><div class=\"sk-toggleable__content\"><pre>SVC(C=1000, gamma=0.001)</pre></div></div></div></div></div>"
     },
     "execution_count": 10,
     "metadata": {},
     "output_type": "execute_result"
    }
   ],
   "source": [
    "clf = svm.SVC(gamma=0.001, C=1000)\n",
    "# fit the model\n",
    "clf.fit(X_train, y_train)"
   ],
   "metadata": {
    "collapsed": false,
    "ExecuteTime": {
     "end_time": "2024-02-04T19:24:06.538584200Z",
     "start_time": "2024-02-04T19:24:06.423243700Z"
    }
   },
   "id": "da69e3fafcfc442",
   "execution_count": 10
  },
  {
   "cell_type": "markdown",
   "source": [
    "## Find the accuracy of the model"
   ],
   "metadata": {
    "collapsed": false
   },
   "id": "fb4e6a230d7922"
  },
  {
   "cell_type": "code",
   "outputs": [
    {
     "name": "stdout",
     "output_type": "stream",
     "text": [
      "The model has an accuracy of: 84.06 %\n"
     ]
    }
   ],
   "source": [
    "# find the accuracy\n",
    "accuracy = clf.score(X_test, y_test)\n",
    "print('The model has an accuracy of:', round(accuracy*100, 2), '%')"
   ],
   "metadata": {
    "collapsed": false,
    "ExecuteTime": {
     "end_time": "2024-02-04T19:24:06.541585Z",
     "start_time": "2024-02-04T19:24:06.433660400Z"
    }
   },
   "id": "7885f3735df0c197",
   "execution_count": 11
  },
  {
   "cell_type": "code",
   "outputs": [
    {
     "name": "stdout",
     "output_type": "stream",
     "text": [
      "              precision    recall  f1-score   support\n",
      "\n",
      "           0       0.97      1.00      0.99        36\n",
      "           1       0.72      0.85      0.78        27\n",
      "           2       0.73      0.59      0.66        32\n",
      "           3       0.88      0.88      0.88        43\n",
      "\n",
      "    accuracy                           0.84       138\n",
      "   macro avg       0.83      0.83      0.83       138\n",
      "weighted avg       0.84      0.84      0.84       138\n"
     ]
    }
   ],
   "source": [
    "# show analytic report of the model\n",
    "from sklearn.metrics import classification_report\n",
    "y_pred = clf.predict(X_test)\n",
    "print(classification_report(y_test, y_pred))"
   ],
   "metadata": {
    "collapsed": false,
    "ExecuteTime": {
     "end_time": "2024-02-04T19:24:06.557583Z",
     "start_time": "2024-02-04T19:24:06.440079300Z"
    }
   },
   "id": "bcdfc7ba4a05217b",
   "execution_count": 12
  },
  {
   "cell_type": "markdown",
   "source": [
    "As expected, the model has a satisfactory accuracy, with the worst f1-score being 0.66 in the 'happy' songs since there are fewer songs of this mood in the data."
   ],
   "metadata": {
    "collapsed": false
   },
   "id": "42171302340a7a5f"
  },
  {
   "cell_type": "markdown",
   "source": [
    "## Predict the mood of the songs of our warehouse"
   ],
   "metadata": {
    "collapsed": false
   },
   "id": "28abc054f3adaa76"
  },
  {
   "cell_type": "code",
   "outputs": [],
   "source": [
    "# create a new column mood in df2 with the predicted values\n",
    "df2['mood'] = clf.predict(df2[df2.columns[6:]])\n",
    "# decode the encoded values\n",
    "df2['mood'] = le.inverse_transform(df2['mood'])"
   ],
   "metadata": {
    "collapsed": false,
    "ExecuteTime": {
     "end_time": "2024-02-04T19:24:06.613589900Z",
     "start_time": "2024-02-04T19:24:06.447216200Z"
    }
   },
   "id": "ef943afeb394c8a3",
   "execution_count": 13
  },
  {
   "cell_type": "code",
   "outputs": [
    {
     "data": {
      "text/plain": "                               label_name  \\\n0     Do They Know It's Christmas? - 2014   \n1                                 Ajándék   \n2                           Lil Boo Thang   \n3                  Vanavond (Uit M'n Bol)   \n4                    Мой счастливый билет   \n...                                   ...   \n5493                           Melancolia   \n5494                        Desi Kalakaar   \n5495             Шукав тебе. Знайшов тебе   \n5496                  Thath'Indawo (Live)   \n5497                            Ryba Rybě   \n\n                            label_album_name       mood  \n0                        Pop Christmas Songs        Sad  \n1                            Duett Karácsony  Energetic  \n2                              Lil Boo Thang      Happy  \n3                     Vanavond (Uit M'n Bol)      Happy  \n4                       Мой счастливый билет        Sad  \n...                                      ...        ...  \n5493                                  X Amor        Sad  \n5494                           Desi Kalakaar      Happy  \n5495                Шукав тебе. Знайшов тебе       Calm  \n5496         Spirit of Praise, Vol. 8 (Live)        Sad  \n5497  Sliby Se Maj Plnit O Vánocích (20 Let)        Sad  \n\n[5498 rows x 3 columns]",
      "text/html": "<div>\n<style scoped>\n    .dataframe tbody tr th:only-of-type {\n        vertical-align: middle;\n    }\n\n    .dataframe tbody tr th {\n        vertical-align: top;\n    }\n\n    .dataframe thead th {\n        text-align: right;\n    }\n</style>\n<table border=\"1\" class=\"dataframe\">\n  <thead>\n    <tr style=\"text-align: right;\">\n      <th></th>\n      <th>label_name</th>\n      <th>label_album_name</th>\n      <th>mood</th>\n    </tr>\n  </thead>\n  <tbody>\n    <tr>\n      <th>0</th>\n      <td>Do They Know It's Christmas? - 2014</td>\n      <td>Pop Christmas Songs</td>\n      <td>Sad</td>\n    </tr>\n    <tr>\n      <th>1</th>\n      <td>Ajándék</td>\n      <td>Duett Karácsony</td>\n      <td>Energetic</td>\n    </tr>\n    <tr>\n      <th>2</th>\n      <td>Lil Boo Thang</td>\n      <td>Lil Boo Thang</td>\n      <td>Happy</td>\n    </tr>\n    <tr>\n      <th>3</th>\n      <td>Vanavond (Uit M'n Bol)</td>\n      <td>Vanavond (Uit M'n Bol)</td>\n      <td>Happy</td>\n    </tr>\n    <tr>\n      <th>4</th>\n      <td>Мой счастливый билет</td>\n      <td>Мой счастливый билет</td>\n      <td>Sad</td>\n    </tr>\n    <tr>\n      <th>...</th>\n      <td>...</td>\n      <td>...</td>\n      <td>...</td>\n    </tr>\n    <tr>\n      <th>5493</th>\n      <td>Melancolia</td>\n      <td>X Amor</td>\n      <td>Sad</td>\n    </tr>\n    <tr>\n      <th>5494</th>\n      <td>Desi Kalakaar</td>\n      <td>Desi Kalakaar</td>\n      <td>Happy</td>\n    </tr>\n    <tr>\n      <th>5495</th>\n      <td>Шукав тебе. Знайшов тебе</td>\n      <td>Шукав тебе. Знайшов тебе</td>\n      <td>Calm</td>\n    </tr>\n    <tr>\n      <th>5496</th>\n      <td>Thath'Indawo (Live)</td>\n      <td>Spirit of Praise, Vol. 8 (Live)</td>\n      <td>Sad</td>\n    </tr>\n    <tr>\n      <th>5497</th>\n      <td>Ryba Rybě</td>\n      <td>Sliby Se Maj Plnit O Vánocích (20 Let)</td>\n      <td>Sad</td>\n    </tr>\n  </tbody>\n</table>\n<p>5498 rows × 3 columns</p>\n</div>"
     },
     "execution_count": 14,
     "metadata": {},
     "output_type": "execute_result"
    }
   ],
   "source": [
    "# join artistID and df2 on id_song\n",
    "df2 = df2.join(artistID.set_index('song_id'), on='id_song')\n",
    "# keep only the first instance of each song\n",
    "df2 = df2.drop_duplicates(subset='id_song', keep='first')\n",
    "# show only the columns label_name, label_album_name, mood\n",
    "df2 = df2[['label_name', 'label_album_name', 'mood']]\n",
    "df2"
   ],
   "metadata": {
    "collapsed": false,
    "ExecuteTime": {
     "end_time": "2024-02-04T19:24:06.615094400Z",
     "start_time": "2024-02-04T19:24:06.511164700Z"
    }
   },
   "id": "591d4f2bb06819b4",
   "execution_count": 14
  }
 ],
 "metadata": {
  "kernelspec": {
   "display_name": "Python 3",
   "language": "python",
   "name": "python3"
  },
  "language_info": {
   "codemirror_mode": {
    "name": "ipython",
    "version": 2
   },
   "file_extension": ".py",
   "mimetype": "text/x-python",
   "name": "python",
   "nbconvert_exporter": "python",
   "pygments_lexer": "ipython2",
   "version": "2.7.6"
  }
 },
 "nbformat": 4,
 "nbformat_minor": 5
}
