{
 "cells": [
  {
   "cell_type": "markdown",
   "source": [
    "# Predicting the Average Popularity of a Song\n",
    "\n",
    "This notebook is used to create a predictive model for the average popularity of a song using most of the metrics Spotify provides for each song, along with the artist of the song, the album release date.\n",
    "The model is created using XGBoost. The data is from the warehouse we created and was exported to an Excel file called songs_warehouse.xlsx."
   ],
   "metadata": {
    "collapsed": false
   },
   "id": "866c80eb3183e8f3"
  },
  {
   "cell_type": "markdown",
   "source": [
    "## Import necessary libraries\n",
    "Import the necessary libraries including pandas, train_test_split, xgboost, and mean_squared_error from sklearn.metrics."
   ],
   "metadata": {
    "collapsed": false
   },
   "id": "8cd5ca60b5a4d548"
  },
  {
   "cell_type": "code",
   "outputs": [],
   "source": [
    "# Import necessary libraries\n",
    "import pandas as pd\n",
    "from sklearn.model_selection import train_test_split\n",
    "import xgboost as xgb\n",
    "from sklearn.metrics import mean_squared_error"
   ],
   "metadata": {
    "collapsed": false,
    "ExecuteTime": {
     "end_time": "2024-02-04T16:10:06.908686800Z",
     "start_time": "2024-02-04T16:10:06.868665Z"
    }
   },
   "id": "e53caaec8cfb8650",
   "execution_count": 19
  },
  {
   "cell_type": "markdown",
   "source": [
    "## Import the data\n",
    "The data is in an Excel file called songs_warehouse.xlsx. There are 3 sheets in the file: song_dimension, song_snapshot_fact, and artist_of_song. \n",
    "* The song_dimension sheet contains the metrics for each song.\n",
    "* The song_snapshot_fact sheet contains the metrics for each song at a specific time.\n",
    "* The artist_of_song sheet contains the artist of each song."
   ],
   "metadata": {
    "collapsed": false
   },
   "id": "554ee87123a97a1e"
  },
  {
   "cell_type": "code",
   "outputs": [
    {
     "data": {
      "text/plain": "   id_song        label_spotify_id                           label_name  \\\n0       42  03Dpt8Z4Zww4NGJb8503zb  Do They Know It's Christmas? - 2014   \n1      128  0a0zPUrwviAua4IhhaYUsP                              Ajándék   \n2      182  0cVyQfDyRnMJ0V3rjjdlU3                        Lil Boo Thang   \n3      270  0gq4UgDPGFdqpsWshU7dmv               Vanavond (Uit M'n Bol)   \n4      289  0hI4TphLTs4ar0mQ8t0dLf                 Мой счастливый билет   \n\n   label_is_explicit  label_duration_ms        label_album_name  \\\n0              False             228916     Pop Christmas Songs   \n1              False             268240         Duett Karácsony   \n2              False             114233           Lil Boo Thang   \n3              False             166560  Vanavond (Uit M'n Bol)   \n4              False             164023    Мой счастливый билет   \n\n  label_album_release_date  label_danceability  label_energy  label_key  \\\n0               2018-11-09               0.626         0.541          0   \n1               2009-01-01               0.668         0.864          0   \n2               2023-08-18               0.850         0.699          0   \n3               2022-03-25               0.799         0.705          0   \n4               2023-02-24               0.783         0.524          0   \n\n   label_loudness  label_mode  label_speechiness  label_acousticness  \\\n0          -7.615           1             0.0308              0.3520   \n1          -4.404           1             0.0343              0.0473   \n2          -3.292           1             0.0776              0.1520   \n3          -7.582           1             0.0698              0.0554   \n4          -6.772           1             0.1300              0.6330   \n\n   label_instrumentalness  label_liveness  label_valence  label_tempo  \\\n0                     0.0           0.119          0.255   112.000999   \n1                     0.0           0.105          0.593   102.014000   \n2                     0.0           0.320          0.915   114.481003   \n3                     0.0           0.426          0.880   106.978996   \n4                     0.0           0.189          0.470   110.035004   \n\n   label_time_signature  \n0                     4  \n1                     4  \n2                     4  \n3                     4  \n4                     4  ",
      "text/html": "<div>\n<style scoped>\n    .dataframe tbody tr th:only-of-type {\n        vertical-align: middle;\n    }\n\n    .dataframe tbody tr th {\n        vertical-align: top;\n    }\n\n    .dataframe thead th {\n        text-align: right;\n    }\n</style>\n<table border=\"1\" class=\"dataframe\">\n  <thead>\n    <tr style=\"text-align: right;\">\n      <th></th>\n      <th>id_song</th>\n      <th>label_spotify_id</th>\n      <th>label_name</th>\n      <th>label_is_explicit</th>\n      <th>label_duration_ms</th>\n      <th>label_album_name</th>\n      <th>label_album_release_date</th>\n      <th>label_danceability</th>\n      <th>label_energy</th>\n      <th>label_key</th>\n      <th>label_loudness</th>\n      <th>label_mode</th>\n      <th>label_speechiness</th>\n      <th>label_acousticness</th>\n      <th>label_instrumentalness</th>\n      <th>label_liveness</th>\n      <th>label_valence</th>\n      <th>label_tempo</th>\n      <th>label_time_signature</th>\n    </tr>\n  </thead>\n  <tbody>\n    <tr>\n      <th>0</th>\n      <td>42</td>\n      <td>03Dpt8Z4Zww4NGJb8503zb</td>\n      <td>Do They Know It's Christmas? - 2014</td>\n      <td>False</td>\n      <td>228916</td>\n      <td>Pop Christmas Songs</td>\n      <td>2018-11-09</td>\n      <td>0.626</td>\n      <td>0.541</td>\n      <td>0</td>\n      <td>-7.615</td>\n      <td>1</td>\n      <td>0.0308</td>\n      <td>0.3520</td>\n      <td>0.0</td>\n      <td>0.119</td>\n      <td>0.255</td>\n      <td>112.000999</td>\n      <td>4</td>\n    </tr>\n    <tr>\n      <th>1</th>\n      <td>128</td>\n      <td>0a0zPUrwviAua4IhhaYUsP</td>\n      <td>Ajándék</td>\n      <td>False</td>\n      <td>268240</td>\n      <td>Duett Karácsony</td>\n      <td>2009-01-01</td>\n      <td>0.668</td>\n      <td>0.864</td>\n      <td>0</td>\n      <td>-4.404</td>\n      <td>1</td>\n      <td>0.0343</td>\n      <td>0.0473</td>\n      <td>0.0</td>\n      <td>0.105</td>\n      <td>0.593</td>\n      <td>102.014000</td>\n      <td>4</td>\n    </tr>\n    <tr>\n      <th>2</th>\n      <td>182</td>\n      <td>0cVyQfDyRnMJ0V3rjjdlU3</td>\n      <td>Lil Boo Thang</td>\n      <td>False</td>\n      <td>114233</td>\n      <td>Lil Boo Thang</td>\n      <td>2023-08-18</td>\n      <td>0.850</td>\n      <td>0.699</td>\n      <td>0</td>\n      <td>-3.292</td>\n      <td>1</td>\n      <td>0.0776</td>\n      <td>0.1520</td>\n      <td>0.0</td>\n      <td>0.320</td>\n      <td>0.915</td>\n      <td>114.481003</td>\n      <td>4</td>\n    </tr>\n    <tr>\n      <th>3</th>\n      <td>270</td>\n      <td>0gq4UgDPGFdqpsWshU7dmv</td>\n      <td>Vanavond (Uit M'n Bol)</td>\n      <td>False</td>\n      <td>166560</td>\n      <td>Vanavond (Uit M'n Bol)</td>\n      <td>2022-03-25</td>\n      <td>0.799</td>\n      <td>0.705</td>\n      <td>0</td>\n      <td>-7.582</td>\n      <td>1</td>\n      <td>0.0698</td>\n      <td>0.0554</td>\n      <td>0.0</td>\n      <td>0.426</td>\n      <td>0.880</td>\n      <td>106.978996</td>\n      <td>4</td>\n    </tr>\n    <tr>\n      <th>4</th>\n      <td>289</td>\n      <td>0hI4TphLTs4ar0mQ8t0dLf</td>\n      <td>Мой счастливый билет</td>\n      <td>False</td>\n      <td>164023</td>\n      <td>Мой счастливый билет</td>\n      <td>2023-02-24</td>\n      <td>0.783</td>\n      <td>0.524</td>\n      <td>0</td>\n      <td>-6.772</td>\n      <td>1</td>\n      <td>0.1300</td>\n      <td>0.6330</td>\n      <td>0.0</td>\n      <td>0.189</td>\n      <td>0.470</td>\n      <td>110.035004</td>\n      <td>4</td>\n    </tr>\n  </tbody>\n</table>\n</div>"
     },
     "execution_count": 20,
     "metadata": {},
     "output_type": "execute_result"
    }
   ],
   "source": [
    "df = pd.read_excel('data/songs_warehouse.xlsx', sheet_name='song_dimension')\n",
    "df.head()"
   ],
   "metadata": {
    "collapsed": false,
    "ExecuteTime": {
     "end_time": "2024-02-04T16:10:07.581861700Z",
     "start_time": "2024-02-04T16:10:06.910685700Z"
    }
   },
   "id": "bbf742bef7b02fb8",
   "execution_count": 20
  },
  {
   "cell_type": "code",
   "outputs": [],
   "source": [
    "df2 = pd.read_excel('data/songs_warehouse.xlsx', sheet_name='song_snapshot_fact')"
   ],
   "metadata": {
    "collapsed": false,
    "ExecuteTime": {
     "end_time": "2024-02-04T16:10:15.925373Z",
     "start_time": "2024-02-04T16:10:07.577861600Z"
    }
   },
   "id": "f557ce4b194374cf",
   "execution_count": 21
  },
  {
   "cell_type": "markdown",
   "source": [
    "Note that in the artist_of_song sheet, the column artist_id contains a unique identifier for each artist and not the name of the artist.\n",
    "This is okay because it is the same thing as encoding the artist name as a number."
   ],
   "metadata": {
    "collapsed": false
   },
   "id": "b04a41189261a477"
  },
  {
   "cell_type": "code",
   "outputs": [
    {
     "data": {
      "text/plain": "      id_song  artist_id\n0           1        481\n1           1        994\n2           1       1339\n3           1       1516\n4           1       2667\n...       ...        ...\n8839     5497       1869\n8840     5497       1881\n8841     5498         25\n8842     5498       1459\n8843     5499       1875\n\n[8844 rows x 2 columns]",
      "text/html": "<div>\n<style scoped>\n    .dataframe tbody tr th:only-of-type {\n        vertical-align: middle;\n    }\n\n    .dataframe tbody tr th {\n        vertical-align: top;\n    }\n\n    .dataframe thead th {\n        text-align: right;\n    }\n</style>\n<table border=\"1\" class=\"dataframe\">\n  <thead>\n    <tr style=\"text-align: right;\">\n      <th></th>\n      <th>id_song</th>\n      <th>artist_id</th>\n    </tr>\n  </thead>\n  <tbody>\n    <tr>\n      <th>0</th>\n      <td>1</td>\n      <td>481</td>\n    </tr>\n    <tr>\n      <th>1</th>\n      <td>1</td>\n      <td>994</td>\n    </tr>\n    <tr>\n      <th>2</th>\n      <td>1</td>\n      <td>1339</td>\n    </tr>\n    <tr>\n      <th>3</th>\n      <td>1</td>\n      <td>1516</td>\n    </tr>\n    <tr>\n      <th>4</th>\n      <td>1</td>\n      <td>2667</td>\n    </tr>\n    <tr>\n      <th>...</th>\n      <td>...</td>\n      <td>...</td>\n    </tr>\n    <tr>\n      <th>8839</th>\n      <td>5497</td>\n      <td>1869</td>\n    </tr>\n    <tr>\n      <th>8840</th>\n      <td>5497</td>\n      <td>1881</td>\n    </tr>\n    <tr>\n      <th>8841</th>\n      <td>5498</td>\n      <td>25</td>\n    </tr>\n    <tr>\n      <th>8842</th>\n      <td>5498</td>\n      <td>1459</td>\n    </tr>\n    <tr>\n      <th>8843</th>\n      <td>5499</td>\n      <td>1875</td>\n    </tr>\n  </tbody>\n</table>\n<p>8844 rows × 2 columns</p>\n</div>"
     },
     "execution_count": 22,
     "metadata": {},
     "output_type": "execute_result"
    }
   ],
   "source": [
    "artist_df = pd.read_excel('data/songs_warehouse.xlsx', sheet_name='artist_of_song')\n",
    "# rename the column song_id to id_song\n",
    "artist_df = artist_df.rename(columns={'song_id': 'id_song'})\n",
    "artist_df"
   ],
   "metadata": {
    "collapsed": false,
    "ExecuteTime": {
     "end_time": "2024-02-04T16:10:16.223633600Z",
     "start_time": "2024-02-04T16:10:15.926372100Z"
    }
   },
   "id": "922dee5de174d8aa",
   "execution_count": 22
  },
  {
   "cell_type": "markdown",
   "source": [
    "## Get the average popularity of each song"
   ],
   "metadata": {
    "collapsed": false
   },
   "id": "b51df9d87d4441ef"
  },
  {
   "cell_type": "code",
   "outputs": [
    {
     "data": {
      "text/plain": "      id_song  average_popularity\n0           1           62.000000\n1           2           33.000000\n2           3           87.615385\n3           4           76.179487\n4           5           65.857143\n...       ...                 ...\n5493     5495           76.535714\n5494     5496           29.000000\n5495     5497           37.500000\n5496     5498           62.166667\n5497     5499           54.272727\n\n[5498 rows x 2 columns]",
      "text/html": "<div>\n<style scoped>\n    .dataframe tbody tr th:only-of-type {\n        vertical-align: middle;\n    }\n\n    .dataframe tbody tr th {\n        vertical-align: top;\n    }\n\n    .dataframe thead th {\n        text-align: right;\n    }\n</style>\n<table border=\"1\" class=\"dataframe\">\n  <thead>\n    <tr style=\"text-align: right;\">\n      <th></th>\n      <th>id_song</th>\n      <th>average_popularity</th>\n    </tr>\n  </thead>\n  <tbody>\n    <tr>\n      <th>0</th>\n      <td>1</td>\n      <td>62.000000</td>\n    </tr>\n    <tr>\n      <th>1</th>\n      <td>2</td>\n      <td>33.000000</td>\n    </tr>\n    <tr>\n      <th>2</th>\n      <td>3</td>\n      <td>87.615385</td>\n    </tr>\n    <tr>\n      <th>3</th>\n      <td>4</td>\n      <td>76.179487</td>\n    </tr>\n    <tr>\n      <th>4</th>\n      <td>5</td>\n      <td>65.857143</td>\n    </tr>\n    <tr>\n      <th>...</th>\n      <td>...</td>\n      <td>...</td>\n    </tr>\n    <tr>\n      <th>5493</th>\n      <td>5495</td>\n      <td>76.535714</td>\n    </tr>\n    <tr>\n      <th>5494</th>\n      <td>5496</td>\n      <td>29.000000</td>\n    </tr>\n    <tr>\n      <th>5495</th>\n      <td>5497</td>\n      <td>37.500000</td>\n    </tr>\n    <tr>\n      <th>5496</th>\n      <td>5498</td>\n      <td>62.166667</td>\n    </tr>\n    <tr>\n      <th>5497</th>\n      <td>5499</td>\n      <td>54.272727</td>\n    </tr>\n  </tbody>\n</table>\n<p>5498 rows × 2 columns</p>\n</div>"
     },
     "execution_count": 23,
     "metadata": {},
     "output_type": "execute_result"
    }
   ],
   "source": [
    "# find the average popularity of each song\n",
    "average_popularity = df2.groupby('song')['popularity'].mean()\n",
    "# rename the column song to id_song and the column popularity to average_popularity\n",
    "average_popularity = average_popularity.reset_index().rename(columns={'song': 'id_song', 'popularity': 'average_popularity'})\n",
    "average_popularity"
   ],
   "metadata": {
    "collapsed": false,
    "ExecuteTime": {
     "end_time": "2024-02-04T16:10:16.237622700Z",
     "start_time": "2024-02-04T16:10:16.212634300Z"
    }
   },
   "id": "91e2212ed7164be7",
   "execution_count": 23
  },
  {
   "cell_type": "markdown",
   "source": [
    "## Remove outliers that may skew the model"
   ],
   "metadata": {
    "collapsed": false
   },
   "id": "8a7aec1d3ffeee47"
  },
  {
   "cell_type": "code",
   "outputs": [],
   "source": [
    "# remove the rows where the average_popularity is 0\n",
    "average_popularity = average_popularity[average_popularity['average_popularity'] > 10]\n",
    "\n",
    "# remove the rows where the average_popularity is lower than 90\n",
    "average_popularity = average_popularity[average_popularity['average_popularity'] < 90]"
   ],
   "metadata": {
    "collapsed": false,
    "ExecuteTime": {
     "end_time": "2024-02-04T16:10:16.238623600Z",
     "start_time": "2024-02-04T16:10:16.228760800Z"
    }
   },
   "id": "b0bfc5a52ec075e3",
   "execution_count": 24
  },
  {
   "cell_type": "markdown",
   "source": [
    "## Merge the dataframes and drop unnecessary columns"
   ],
   "metadata": {
    "collapsed": false
   },
   "id": "4b7559382b89e78e"
  },
  {
   "cell_type": "code",
   "outputs": [],
   "source": [
    "# merge average_popularity with df on song \n",
    "merged_df = df.merge(average_popularity, on='id_song')\n",
    "\n",
    "# merge artist_df with merged_df on song\n",
    "merged_df = merged_df.merge(artist_df, on='id_song')\n",
    "\n",
    "# break the column label_album_release_date into year, month, day\n",
    "merged_df['year'] = merged_df['label_album_release_date'].dt.year\n",
    "merged_df['month'] = merged_df['label_album_release_date'].dt.month\n",
    "merged_df['day'] = merged_df['label_album_release_date'].dt.day\n",
    "# drop the column label_album_release_date\n",
    "merged_df = merged_df.drop(columns=['label_album_release_date' ])"
   ],
   "metadata": {
    "collapsed": false,
    "ExecuteTime": {
     "end_time": "2024-02-04T16:10:16.290903300Z",
     "start_time": "2024-02-04T16:10:16.234622800Z"
    }
   },
   "id": "6852d0729c2e2a60",
   "execution_count": 25
  },
  {
   "cell_type": "code",
   "outputs": [
    {
     "data": {
      "text/plain": "      id_song        label_spotify_id                           label_name  \\\n0          42  03Dpt8Z4Zww4NGJb8503zb  Do They Know It's Christmas? - 2014   \n1         128  0a0zPUrwviAua4IhhaYUsP                              Ajándék   \n2         128  0a0zPUrwviAua4IhhaYUsP                              Ajándék   \n3         182  0cVyQfDyRnMJ0V3rjjdlU3                        Lil Boo Thang   \n4         270  0gq4UgDPGFdqpsWshU7dmv               Vanavond (Uit M'n Bol)   \n...       ...                     ...                                  ...   \n8468     5433  7uHFrsclJjAhONLcc8grZU             Шукав тебе. Знайшов тебе   \n8469     5433  7uHFrsclJjAhONLcc8grZU             Шукав тебе. Знайшов тебе   \n8470     5459  7wcjeveluiW5djtxLCxNSx                  Thath'Indawo (Live)   \n8471     5459  7wcjeveluiW5djtxLCxNSx                  Thath'Indawo (Live)   \n8472     5499  7zTFcEEtyeKxvRUrPIHT49                            Ryba Rybě   \n\n      label_is_explicit  label_duration_ms  label_danceability  label_energy  \\\n0                 False             228916               0.626         0.541   \n1                 False             268240               0.668         0.864   \n2                 False             268240               0.668         0.864   \n3                 False             114233               0.850         0.699   \n4                 False             166560               0.799         0.705   \n...                 ...                ...                 ...           ...   \n8468              False             167999               0.711         0.600   \n8469              False             167999               0.711         0.600   \n8470              False             475664               0.380         0.646   \n8471              False             475664               0.380         0.646   \n8472              False             249813               0.440         0.428   \n\n      label_key  label_loudness  label_speechiness  ...  \\\n0             0          -7.615             0.0308  ...   \n1             0          -4.404             0.0343  ...   \n2             0          -4.404             0.0343  ...   \n3             0          -3.292             0.0776  ...   \n4             0          -7.582             0.0698  ...   \n...         ...             ...                ...  ...   \n8468          0         -10.639             0.1410  ...   \n8469          0         -10.639             0.1410  ...   \n8470          0          -8.379             0.0678  ...   \n8471          0          -8.379             0.0678  ...   \n8472          0         -12.025             0.0297  ...   \n\n      label_instrumentalness  label_liveness  label_valence  label_tempo  \\\n0                   0.000000          0.1190          0.255   112.000999   \n1                   0.000000          0.1050          0.593   102.014000   \n2                   0.000000          0.1050          0.593   102.014000   \n3                   0.000000          0.3200          0.915   114.481003   \n4                   0.000000          0.4260          0.880   106.978996   \n...                      ...             ...            ...          ...   \n8468                0.000001          0.0843          0.201   112.125999   \n8469                0.000001          0.0843          0.201   112.125999   \n8470                0.000001          0.1350          0.315   105.845001   \n8471                0.000001          0.1350          0.315   105.845001   \n8472                0.000066          0.3880          0.427   152.024994   \n\n      label_time_signature  average_popularity  artist_id    year  month   day  \n0                        4           55.000000       1913  2018.0   11.0   9.0  \n1                        4           48.000000       3294  2009.0    1.0   1.0  \n2                        4           48.000000       4089  2009.0    1.0   1.0  \n3                        4           86.000000       1751  2023.0    8.0  18.0  \n4                        4           62.000000        509  2022.0    3.0  25.0  \n...                    ...                 ...        ...     ...    ...   ...  \n8468                     4           58.136986       3005  2021.0    7.0  30.0  \n8469                     4           58.136986       3404  2021.0    7.0  30.0  \n8470                     4           56.000000       4066  2022.0    9.0  16.0  \n8471                     4           56.000000       4242  2022.0    9.0  16.0  \n8472                     4           54.272727       1875  2011.0    1.0   1.0  \n\n[8473 rows x 21 columns]",
      "text/html": "<div>\n<style scoped>\n    .dataframe tbody tr th:only-of-type {\n        vertical-align: middle;\n    }\n\n    .dataframe tbody tr th {\n        vertical-align: top;\n    }\n\n    .dataframe thead th {\n        text-align: right;\n    }\n</style>\n<table border=\"1\" class=\"dataframe\">\n  <thead>\n    <tr style=\"text-align: right;\">\n      <th></th>\n      <th>id_song</th>\n      <th>label_spotify_id</th>\n      <th>label_name</th>\n      <th>label_is_explicit</th>\n      <th>label_duration_ms</th>\n      <th>label_danceability</th>\n      <th>label_energy</th>\n      <th>label_key</th>\n      <th>label_loudness</th>\n      <th>label_speechiness</th>\n      <th>...</th>\n      <th>label_instrumentalness</th>\n      <th>label_liveness</th>\n      <th>label_valence</th>\n      <th>label_tempo</th>\n      <th>label_time_signature</th>\n      <th>average_popularity</th>\n      <th>artist_id</th>\n      <th>year</th>\n      <th>month</th>\n      <th>day</th>\n    </tr>\n  </thead>\n  <tbody>\n    <tr>\n      <th>0</th>\n      <td>42</td>\n      <td>03Dpt8Z4Zww4NGJb8503zb</td>\n      <td>Do They Know It's Christmas? - 2014</td>\n      <td>False</td>\n      <td>228916</td>\n      <td>0.626</td>\n      <td>0.541</td>\n      <td>0</td>\n      <td>-7.615</td>\n      <td>0.0308</td>\n      <td>...</td>\n      <td>0.000000</td>\n      <td>0.1190</td>\n      <td>0.255</td>\n      <td>112.000999</td>\n      <td>4</td>\n      <td>55.000000</td>\n      <td>1913</td>\n      <td>2018.0</td>\n      <td>11.0</td>\n      <td>9.0</td>\n    </tr>\n    <tr>\n      <th>1</th>\n      <td>128</td>\n      <td>0a0zPUrwviAua4IhhaYUsP</td>\n      <td>Ajándék</td>\n      <td>False</td>\n      <td>268240</td>\n      <td>0.668</td>\n      <td>0.864</td>\n      <td>0</td>\n      <td>-4.404</td>\n      <td>0.0343</td>\n      <td>...</td>\n      <td>0.000000</td>\n      <td>0.1050</td>\n      <td>0.593</td>\n      <td>102.014000</td>\n      <td>4</td>\n      <td>48.000000</td>\n      <td>3294</td>\n      <td>2009.0</td>\n      <td>1.0</td>\n      <td>1.0</td>\n    </tr>\n    <tr>\n      <th>2</th>\n      <td>128</td>\n      <td>0a0zPUrwviAua4IhhaYUsP</td>\n      <td>Ajándék</td>\n      <td>False</td>\n      <td>268240</td>\n      <td>0.668</td>\n      <td>0.864</td>\n      <td>0</td>\n      <td>-4.404</td>\n      <td>0.0343</td>\n      <td>...</td>\n      <td>0.000000</td>\n      <td>0.1050</td>\n      <td>0.593</td>\n      <td>102.014000</td>\n      <td>4</td>\n      <td>48.000000</td>\n      <td>4089</td>\n      <td>2009.0</td>\n      <td>1.0</td>\n      <td>1.0</td>\n    </tr>\n    <tr>\n      <th>3</th>\n      <td>182</td>\n      <td>0cVyQfDyRnMJ0V3rjjdlU3</td>\n      <td>Lil Boo Thang</td>\n      <td>False</td>\n      <td>114233</td>\n      <td>0.850</td>\n      <td>0.699</td>\n      <td>0</td>\n      <td>-3.292</td>\n      <td>0.0776</td>\n      <td>...</td>\n      <td>0.000000</td>\n      <td>0.3200</td>\n      <td>0.915</td>\n      <td>114.481003</td>\n      <td>4</td>\n      <td>86.000000</td>\n      <td>1751</td>\n      <td>2023.0</td>\n      <td>8.0</td>\n      <td>18.0</td>\n    </tr>\n    <tr>\n      <th>4</th>\n      <td>270</td>\n      <td>0gq4UgDPGFdqpsWshU7dmv</td>\n      <td>Vanavond (Uit M'n Bol)</td>\n      <td>False</td>\n      <td>166560</td>\n      <td>0.799</td>\n      <td>0.705</td>\n      <td>0</td>\n      <td>-7.582</td>\n      <td>0.0698</td>\n      <td>...</td>\n      <td>0.000000</td>\n      <td>0.4260</td>\n      <td>0.880</td>\n      <td>106.978996</td>\n      <td>4</td>\n      <td>62.000000</td>\n      <td>509</td>\n      <td>2022.0</td>\n      <td>3.0</td>\n      <td>25.0</td>\n    </tr>\n    <tr>\n      <th>...</th>\n      <td>...</td>\n      <td>...</td>\n      <td>...</td>\n      <td>...</td>\n      <td>...</td>\n      <td>...</td>\n      <td>...</td>\n      <td>...</td>\n      <td>...</td>\n      <td>...</td>\n      <td>...</td>\n      <td>...</td>\n      <td>...</td>\n      <td>...</td>\n      <td>...</td>\n      <td>...</td>\n      <td>...</td>\n      <td>...</td>\n      <td>...</td>\n      <td>...</td>\n      <td>...</td>\n    </tr>\n    <tr>\n      <th>8468</th>\n      <td>5433</td>\n      <td>7uHFrsclJjAhONLcc8grZU</td>\n      <td>Шукав тебе. Знайшов тебе</td>\n      <td>False</td>\n      <td>167999</td>\n      <td>0.711</td>\n      <td>0.600</td>\n      <td>0</td>\n      <td>-10.639</td>\n      <td>0.1410</td>\n      <td>...</td>\n      <td>0.000001</td>\n      <td>0.0843</td>\n      <td>0.201</td>\n      <td>112.125999</td>\n      <td>4</td>\n      <td>58.136986</td>\n      <td>3005</td>\n      <td>2021.0</td>\n      <td>7.0</td>\n      <td>30.0</td>\n    </tr>\n    <tr>\n      <th>8469</th>\n      <td>5433</td>\n      <td>7uHFrsclJjAhONLcc8grZU</td>\n      <td>Шукав тебе. Знайшов тебе</td>\n      <td>False</td>\n      <td>167999</td>\n      <td>0.711</td>\n      <td>0.600</td>\n      <td>0</td>\n      <td>-10.639</td>\n      <td>0.1410</td>\n      <td>...</td>\n      <td>0.000001</td>\n      <td>0.0843</td>\n      <td>0.201</td>\n      <td>112.125999</td>\n      <td>4</td>\n      <td>58.136986</td>\n      <td>3404</td>\n      <td>2021.0</td>\n      <td>7.0</td>\n      <td>30.0</td>\n    </tr>\n    <tr>\n      <th>8470</th>\n      <td>5459</td>\n      <td>7wcjeveluiW5djtxLCxNSx</td>\n      <td>Thath'Indawo (Live)</td>\n      <td>False</td>\n      <td>475664</td>\n      <td>0.380</td>\n      <td>0.646</td>\n      <td>0</td>\n      <td>-8.379</td>\n      <td>0.0678</td>\n      <td>...</td>\n      <td>0.000001</td>\n      <td>0.1350</td>\n      <td>0.315</td>\n      <td>105.845001</td>\n      <td>4</td>\n      <td>56.000000</td>\n      <td>4066</td>\n      <td>2022.0</td>\n      <td>9.0</td>\n      <td>16.0</td>\n    </tr>\n    <tr>\n      <th>8471</th>\n      <td>5459</td>\n      <td>7wcjeveluiW5djtxLCxNSx</td>\n      <td>Thath'Indawo (Live)</td>\n      <td>False</td>\n      <td>475664</td>\n      <td>0.380</td>\n      <td>0.646</td>\n      <td>0</td>\n      <td>-8.379</td>\n      <td>0.0678</td>\n      <td>...</td>\n      <td>0.000001</td>\n      <td>0.1350</td>\n      <td>0.315</td>\n      <td>105.845001</td>\n      <td>4</td>\n      <td>56.000000</td>\n      <td>4242</td>\n      <td>2022.0</td>\n      <td>9.0</td>\n      <td>16.0</td>\n    </tr>\n    <tr>\n      <th>8472</th>\n      <td>5499</td>\n      <td>7zTFcEEtyeKxvRUrPIHT49</td>\n      <td>Ryba Rybě</td>\n      <td>False</td>\n      <td>249813</td>\n      <td>0.440</td>\n      <td>0.428</td>\n      <td>0</td>\n      <td>-12.025</td>\n      <td>0.0297</td>\n      <td>...</td>\n      <td>0.000066</td>\n      <td>0.3880</td>\n      <td>0.427</td>\n      <td>152.024994</td>\n      <td>4</td>\n      <td>54.272727</td>\n      <td>1875</td>\n      <td>2011.0</td>\n      <td>1.0</td>\n      <td>1.0</td>\n    </tr>\n  </tbody>\n</table>\n<p>8473 rows × 21 columns</p>\n</div>"
     },
     "execution_count": 26,
     "metadata": {},
     "output_type": "execute_result"
    }
   ],
   "source": [
    "# drop the columns label_album_name,  label_mode\n",
    "merged_df = merged_df.drop(columns=['label_album_name', 'label_mode'])\n",
    "merged_df"
   ],
   "metadata": {
    "collapsed": false,
    "ExecuteTime": {
     "end_time": "2024-02-04T16:10:16.312905800Z",
     "start_time": "2024-02-04T16:10:16.251180900Z"
    }
   },
   "id": "ced338082015113d",
   "execution_count": 26
  },
  {
   "cell_type": "markdown",
   "source": [
    "## Set the dependent and independent variables"
   ],
   "metadata": {
    "collapsed": false
   },
   "id": "5f626d4c227752fe"
  },
  {
   "cell_type": "code",
   "outputs": [],
   "source": [
    "# use xgboost to predict the average popularity of a song\n",
    "X = merged_df.drop(columns=['average_popularity', 'id_song', 'label_name', 'label_spotify_id'])\n",
    "y = merged_df['average_popularity']"
   ],
   "metadata": {
    "collapsed": false,
    "ExecuteTime": {
     "end_time": "2024-02-04T16:10:16.317903500Z",
     "start_time": "2024-02-04T16:10:16.267953200Z"
    }
   },
   "id": "539ac39c78102b69",
   "execution_count": 27
  },
  {
   "cell_type": "markdown",
   "source": [
    "## Split the data into training and testing sets\n",
    "We will use 10% of the data for testing and 90% for training."
   ],
   "metadata": {
    "collapsed": false
   },
   "id": "f5f86f360f12967e"
  },
  {
   "cell_type": "code",
   "outputs": [],
   "source": [
    "# split the data into training and testing sets\n",
    "X_train, X_test, y_train, y_test = train_test_split(X, y, test_size=0.1, random_state=1000)"
   ],
   "metadata": {
    "collapsed": false,
    "ExecuteTime": {
     "end_time": "2024-02-04T16:10:16.357903500Z",
     "start_time": "2024-02-04T16:10:16.270463500Z"
    }
   },
   "id": "866283abe2ed41f",
   "execution_count": 28
  },
  {
   "cell_type": "markdown",
   "source": [
    "## Create and train the model"
   ],
   "metadata": {
    "collapsed": false
   },
   "id": "74e061b0187e435b"
  },
  {
   "cell_type": "code",
   "outputs": [
    {
     "data": {
      "text/plain": "XGBRegressor(base_score=None, booster=None, callbacks=None,\n             colsample_bylevel=None, colsample_bynode=None,\n             colsample_bytree=None, device=None, early_stopping_rounds=None,\n             enable_categorical=False, eval_metric=None, feature_types=None,\n             gamma=None, grow_policy=None, importance_type=None,\n             interaction_constraints=None, learning_rate=None, max_bin=None,\n             max_cat_threshold=None, max_cat_to_onehot=None,\n             max_delta_step=None, max_depth=None, max_leaves=None,\n             min_child_weight=None, missing=nan, monotone_constraints=None,\n             multi_strategy=None, n_estimators=None, n_jobs=None,\n             num_parallel_tree=None, random_state=None, ...)",
      "text/html": "<style>#sk-container-id-2 {color: black;background-color: white;}#sk-container-id-2 pre{padding: 0;}#sk-container-id-2 div.sk-toggleable {background-color: white;}#sk-container-id-2 label.sk-toggleable__label {cursor: pointer;display: block;width: 100%;margin-bottom: 0;padding: 0.3em;box-sizing: border-box;text-align: center;}#sk-container-id-2 label.sk-toggleable__label-arrow:before {content: \"▸\";float: left;margin-right: 0.25em;color: #696969;}#sk-container-id-2 label.sk-toggleable__label-arrow:hover:before {color: black;}#sk-container-id-2 div.sk-estimator:hover label.sk-toggleable__label-arrow:before {color: black;}#sk-container-id-2 div.sk-toggleable__content {max-height: 0;max-width: 0;overflow: hidden;text-align: left;background-color: #f0f8ff;}#sk-container-id-2 div.sk-toggleable__content pre {margin: 0.2em;color: black;border-radius: 0.25em;background-color: #f0f8ff;}#sk-container-id-2 input.sk-toggleable__control:checked~div.sk-toggleable__content {max-height: 200px;max-width: 100%;overflow: auto;}#sk-container-id-2 input.sk-toggleable__control:checked~label.sk-toggleable__label-arrow:before {content: \"▾\";}#sk-container-id-2 div.sk-estimator input.sk-toggleable__control:checked~label.sk-toggleable__label {background-color: #d4ebff;}#sk-container-id-2 div.sk-label input.sk-toggleable__control:checked~label.sk-toggleable__label {background-color: #d4ebff;}#sk-container-id-2 input.sk-hidden--visually {border: 0;clip: rect(1px 1px 1px 1px);clip: rect(1px, 1px, 1px, 1px);height: 1px;margin: -1px;overflow: hidden;padding: 0;position: absolute;width: 1px;}#sk-container-id-2 div.sk-estimator {font-family: monospace;background-color: #f0f8ff;border: 1px dotted black;border-radius: 0.25em;box-sizing: border-box;margin-bottom: 0.5em;}#sk-container-id-2 div.sk-estimator:hover {background-color: #d4ebff;}#sk-container-id-2 div.sk-parallel-item::after {content: \"\";width: 100%;border-bottom: 1px solid gray;flex-grow: 1;}#sk-container-id-2 div.sk-label:hover label.sk-toggleable__label {background-color: #d4ebff;}#sk-container-id-2 div.sk-serial::before {content: \"\";position: absolute;border-left: 1px solid gray;box-sizing: border-box;top: 0;bottom: 0;left: 50%;z-index: 0;}#sk-container-id-2 div.sk-serial {display: flex;flex-direction: column;align-items: center;background-color: white;padding-right: 0.2em;padding-left: 0.2em;position: relative;}#sk-container-id-2 div.sk-item {position: relative;z-index: 1;}#sk-container-id-2 div.sk-parallel {display: flex;align-items: stretch;justify-content: center;background-color: white;position: relative;}#sk-container-id-2 div.sk-item::before, #sk-container-id-2 div.sk-parallel-item::before {content: \"\";position: absolute;border-left: 1px solid gray;box-sizing: border-box;top: 0;bottom: 0;left: 50%;z-index: -1;}#sk-container-id-2 div.sk-parallel-item {display: flex;flex-direction: column;z-index: 1;position: relative;background-color: white;}#sk-container-id-2 div.sk-parallel-item:first-child::after {align-self: flex-end;width: 50%;}#sk-container-id-2 div.sk-parallel-item:last-child::after {align-self: flex-start;width: 50%;}#sk-container-id-2 div.sk-parallel-item:only-child::after {width: 0;}#sk-container-id-2 div.sk-dashed-wrapped {border: 1px dashed gray;margin: 0 0.4em 0.5em 0.4em;box-sizing: border-box;padding-bottom: 0.4em;background-color: white;}#sk-container-id-2 div.sk-label label {font-family: monospace;font-weight: bold;display: inline-block;line-height: 1.2em;}#sk-container-id-2 div.sk-label-container {text-align: center;}#sk-container-id-2 div.sk-container {/* jupyter's `normalize.less` sets `[hidden] { display: none; }` but bootstrap.min.css set `[hidden] { display: none !important; }` so we also need the `!important` here to be able to override the default hidden behavior on the sphinx rendered scikit-learn.org. See: https://github.com/scikit-learn/scikit-learn/issues/21755 */display: inline-block !important;position: relative;}#sk-container-id-2 div.sk-text-repr-fallback {display: none;}</style><div id=\"sk-container-id-2\" class=\"sk-top-container\"><div class=\"sk-text-repr-fallback\"><pre>XGBRegressor(base_score=None, booster=None, callbacks=None,\n             colsample_bylevel=None, colsample_bynode=None,\n             colsample_bytree=None, device=None, early_stopping_rounds=None,\n             enable_categorical=False, eval_metric=None, feature_types=None,\n             gamma=None, grow_policy=None, importance_type=None,\n             interaction_constraints=None, learning_rate=None, max_bin=None,\n             max_cat_threshold=None, max_cat_to_onehot=None,\n             max_delta_step=None, max_depth=None, max_leaves=None,\n             min_child_weight=None, missing=nan, monotone_constraints=None,\n             multi_strategy=None, n_estimators=None, n_jobs=None,\n             num_parallel_tree=None, random_state=None, ...)</pre><b>In a Jupyter environment, please rerun this cell to show the HTML representation or trust the notebook. <br />On GitHub, the HTML representation is unable to render, please try loading this page with nbviewer.org.</b></div><div class=\"sk-container\" hidden><div class=\"sk-item\"><div class=\"sk-estimator sk-toggleable\"><input class=\"sk-toggleable__control sk-hidden--visually\" id=\"sk-estimator-id-2\" type=\"checkbox\" checked><label for=\"sk-estimator-id-2\" class=\"sk-toggleable__label sk-toggleable__label-arrow\">XGBRegressor</label><div class=\"sk-toggleable__content\"><pre>XGBRegressor(base_score=None, booster=None, callbacks=None,\n             colsample_bylevel=None, colsample_bynode=None,\n             colsample_bytree=None, device=None, early_stopping_rounds=None,\n             enable_categorical=False, eval_metric=None, feature_types=None,\n             gamma=None, grow_policy=None, importance_type=None,\n             interaction_constraints=None, learning_rate=None, max_bin=None,\n             max_cat_threshold=None, max_cat_to_onehot=None,\n             max_delta_step=None, max_depth=None, max_leaves=None,\n             min_child_weight=None, missing=nan, monotone_constraints=None,\n             multi_strategy=None, n_estimators=None, n_jobs=None,\n             num_parallel_tree=None, random_state=None, ...)</pre></div></div></div></div></div>"
     },
     "execution_count": 29,
     "metadata": {},
     "output_type": "execute_result"
    }
   ],
   "source": [
    "# initialize the XGBoost regressor\n",
    "xgb_reg = xgb.XGBRegressor()\n",
    "# train the model\n",
    "xgb_reg.fit(X_train, y_train)"
   ],
   "metadata": {
    "collapsed": false,
    "ExecuteTime": {
     "end_time": "2024-02-04T16:10:16.430098600Z",
     "start_time": "2024-02-04T16:10:16.277398800Z"
    }
   },
   "id": "8c5f7cb7002dc248",
   "execution_count": 29
  },
  {
   "cell_type": "markdown",
   "source": [
    "## Get the feature importance"
   ],
   "metadata": {
    "collapsed": false
   },
   "id": "f2036f2f6f58227b"
  },
  {
   "cell_type": "code",
   "outputs": [
    {
     "data": {
      "text/plain": "             feature_names  feature_importance\n15                   month            0.241368\n14                    year            0.142258\n16                     day            0.086468\n5           label_loudness            0.057707\n7       label_acousticness            0.047068\n8   label_instrumentalness            0.044525\n11             label_tempo            0.041449\n6        label_speechiness            0.040630\n9           label_liveness            0.039392\n10           label_valence            0.038931\n12    label_time_signature            0.038060\n3             label_energy            0.035348\n13               artist_id            0.033173\n1        label_duration_ms            0.031128\n2       label_danceability            0.029891\n4                label_key            0.028238\n0        label_is_explicit            0.024368",
      "text/html": "<div>\n<style scoped>\n    .dataframe tbody tr th:only-of-type {\n        vertical-align: middle;\n    }\n\n    .dataframe tbody tr th {\n        vertical-align: top;\n    }\n\n    .dataframe thead th {\n        text-align: right;\n    }\n</style>\n<table border=\"1\" class=\"dataframe\">\n  <thead>\n    <tr style=\"text-align: right;\">\n      <th></th>\n      <th>feature_names</th>\n      <th>feature_importance</th>\n    </tr>\n  </thead>\n  <tbody>\n    <tr>\n      <th>15</th>\n      <td>month</td>\n      <td>0.241368</td>\n    </tr>\n    <tr>\n      <th>14</th>\n      <td>year</td>\n      <td>0.142258</td>\n    </tr>\n    <tr>\n      <th>16</th>\n      <td>day</td>\n      <td>0.086468</td>\n    </tr>\n    <tr>\n      <th>5</th>\n      <td>label_loudness</td>\n      <td>0.057707</td>\n    </tr>\n    <tr>\n      <th>7</th>\n      <td>label_acousticness</td>\n      <td>0.047068</td>\n    </tr>\n    <tr>\n      <th>8</th>\n      <td>label_instrumentalness</td>\n      <td>0.044525</td>\n    </tr>\n    <tr>\n      <th>11</th>\n      <td>label_tempo</td>\n      <td>0.041449</td>\n    </tr>\n    <tr>\n      <th>6</th>\n      <td>label_speechiness</td>\n      <td>0.040630</td>\n    </tr>\n    <tr>\n      <th>9</th>\n      <td>label_liveness</td>\n      <td>0.039392</td>\n    </tr>\n    <tr>\n      <th>10</th>\n      <td>label_valence</td>\n      <td>0.038931</td>\n    </tr>\n    <tr>\n      <th>12</th>\n      <td>label_time_signature</td>\n      <td>0.038060</td>\n    </tr>\n    <tr>\n      <th>3</th>\n      <td>label_energy</td>\n      <td>0.035348</td>\n    </tr>\n    <tr>\n      <th>13</th>\n      <td>artist_id</td>\n      <td>0.033173</td>\n    </tr>\n    <tr>\n      <th>1</th>\n      <td>label_duration_ms</td>\n      <td>0.031128</td>\n    </tr>\n    <tr>\n      <th>2</th>\n      <td>label_danceability</td>\n      <td>0.029891</td>\n    </tr>\n    <tr>\n      <th>4</th>\n      <td>label_key</td>\n      <td>0.028238</td>\n    </tr>\n    <tr>\n      <th>0</th>\n      <td>label_is_explicit</td>\n      <td>0.024368</td>\n    </tr>\n  </tbody>\n</table>\n</div>"
     },
     "execution_count": 30,
     "metadata": {},
     "output_type": "execute_result"
    }
   ],
   "source": [
    "# get the feature names\n",
    "feature_names = X_train.columns\n",
    "# create a dataframe with feature names and feature importance\n",
    "feature_importance_df = pd.DataFrame({'feature_names': feature_names, 'feature_importance': xgb_reg.feature_importances_})\n",
    "# sort the dataframe by feature_importance\n",
    "feature_importance_df = feature_importance_df.sort_values('feature_importance', ascending=False)\n",
    "feature_importance_df"
   ],
   "metadata": {
    "collapsed": false,
    "ExecuteTime": {
     "end_time": "2024-02-04T16:10:16.432464400Z",
     "start_time": "2024-02-04T16:10:16.425098900Z"
    }
   },
   "id": "d26de86fd4e562ea",
   "execution_count": 30
  },
  {
   "cell_type": "markdown",
   "source": [
    "## Make predictions on the test set"
   ],
   "metadata": {
    "collapsed": false
   },
   "id": "45c9a61735f78bd4"
  },
  {
   "cell_type": "code",
   "outputs": [],
   "source": [
    "# make predictions on X_test\n",
    "predictions = xgb_reg.predict(X_test)"
   ],
   "metadata": {
    "collapsed": false,
    "ExecuteTime": {
     "end_time": "2024-02-04T16:10:16.450070800Z",
     "start_time": "2024-02-04T16:10:16.433464300Z"
    }
   },
   "id": "1b2c7a048cc2189c",
   "execution_count": 31
  },
  {
   "cell_type": "markdown",
   "source": [
    "## Evaluate the model"
   ],
   "metadata": {
    "collapsed": false
   },
   "id": "d1fa802cfd5f3736"
  },
  {
   "cell_type": "code",
   "outputs": [
    {
     "name": "stdout",
     "output_type": "stream",
     "text": [
      "The rmse is: 10.28\n",
      "The mae is: 7.57\n",
      "The mape is: 14.98\n"
     ]
    }
   ],
   "source": [
    "# rmse (root mean squared error)\n",
    "rmse = mean_squared_error(y_test, predictions, squared=False)\n",
    "print('The rmse is:', round(rmse, 2))\n",
    "# mae (mean absolute error)\n",
    "mae = (abs(predictions - y_test)).mean()\n",
    "print('The mae is:', round(mae, 2))\n",
    "# mape (mean absolute percentage error)\n",
    "mape = 100 * (abs(predictions - y_test) / y_test).mean()\n",
    "print('The mape is:', round(mape, 2))"
   ],
   "metadata": {
    "collapsed": false,
    "ExecuteTime": {
     "end_time": "2024-02-04T16:10:16.454077900Z",
     "start_time": "2024-02-04T16:10:16.441055800Z"
    }
   },
   "id": "70344ff28b981f92",
   "execution_count": 32
  },
  {
   "cell_type": "markdown",
   "source": [
    "## Compare the predictions with the actual values"
   ],
   "metadata": {
    "collapsed": false
   },
   "id": "c87dec6172c2b597"
  },
  {
   "cell_type": "code",
   "outputs": [],
   "source": [
    "# put into a dataframe\n",
    "predictions_df = pd.DataFrame(predictions)\n",
    "predictions_df\n",
    "# merge predictions_df with y_test\n",
    "predictions_df = predictions_df.merge(y_test, left_index=True, right_index=True)"
   ],
   "metadata": {
    "collapsed": false,
    "ExecuteTime": {
     "end_time": "2024-02-04T16:10:16.482656Z",
     "start_time": "2024-02-04T16:10:16.446621900Z"
    }
   },
   "id": "983ffb544d0f5af9",
   "execution_count": 33
  },
  {
   "cell_type": "code",
   "outputs": [
    {
     "data": {
      "text/plain": "     predicted     actual\n1    68.843620  48.000000\n6    56.923599  62.000000\n18   27.905424  78.921875\n31   54.233852  72.000000\n42   66.686066  45.361702\n..         ...        ...\n803  61.944675  79.378378\n804  65.557625  79.378378\n820  73.608948  12.000000\n826  30.177361  43.000000\n834  63.991379  61.631579\n\n[84 rows x 2 columns]",
      "text/html": "<div>\n<style scoped>\n    .dataframe tbody tr th:only-of-type {\n        vertical-align: middle;\n    }\n\n    .dataframe tbody tr th {\n        vertical-align: top;\n    }\n\n    .dataframe thead th {\n        text-align: right;\n    }\n</style>\n<table border=\"1\" class=\"dataframe\">\n  <thead>\n    <tr style=\"text-align: right;\">\n      <th></th>\n      <th>predicted</th>\n      <th>actual</th>\n    </tr>\n  </thead>\n  <tbody>\n    <tr>\n      <th>1</th>\n      <td>68.843620</td>\n      <td>48.000000</td>\n    </tr>\n    <tr>\n      <th>6</th>\n      <td>56.923599</td>\n      <td>62.000000</td>\n    </tr>\n    <tr>\n      <th>18</th>\n      <td>27.905424</td>\n      <td>78.921875</td>\n    </tr>\n    <tr>\n      <th>31</th>\n      <td>54.233852</td>\n      <td>72.000000</td>\n    </tr>\n    <tr>\n      <th>42</th>\n      <td>66.686066</td>\n      <td>45.361702</td>\n    </tr>\n    <tr>\n      <th>...</th>\n      <td>...</td>\n      <td>...</td>\n    </tr>\n    <tr>\n      <th>803</th>\n      <td>61.944675</td>\n      <td>79.378378</td>\n    </tr>\n    <tr>\n      <th>804</th>\n      <td>65.557625</td>\n      <td>79.378378</td>\n    </tr>\n    <tr>\n      <th>820</th>\n      <td>73.608948</td>\n      <td>12.000000</td>\n    </tr>\n    <tr>\n      <th>826</th>\n      <td>30.177361</td>\n      <td>43.000000</td>\n    </tr>\n    <tr>\n      <th>834</th>\n      <td>63.991379</td>\n      <td>61.631579</td>\n    </tr>\n  </tbody>\n</table>\n<p>84 rows × 2 columns</p>\n</div>"
     },
     "execution_count": 34,
     "metadata": {},
     "output_type": "execute_result"
    }
   ],
   "source": [
    "# rename the columns to predicted and actual\n",
    "predictions_df = predictions_df.rename(columns={0: 'predicted', 'average_popularity': 'actual'})\n",
    "predictions_df"
   ],
   "metadata": {
    "collapsed": false,
    "ExecuteTime": {
     "end_time": "2024-02-04T16:10:16.498162500Z",
     "start_time": "2024-02-04T16:10:16.453076200Z"
    }
   },
   "id": "69df203e25ea6733",
   "execution_count": 34
  },
  {
   "cell_type": "markdown",
   "source": [
    "## Show the rows where the 2 columns have a difference of less than 20"
   ],
   "metadata": {
    "collapsed": false
   },
   "id": "e67ddb43fbf8f12"
  },
  {
   "cell_type": "code",
   "outputs": [
    {
     "data": {
      "text/plain": "     predicted     actual\n6    56.923599  62.000000\n31   54.233852  72.000000\n57   66.952652  49.272727\n65   62.650089  52.000000\n76   63.107349  75.000000\n78   55.235771  56.000000\n147  85.282066  76.775862\n152  65.441010  52.000000\n154  76.769211  58.525424\n163  67.037758  59.956522\n180  68.073212  64.120000\n184  58.652264  75.217391\n201  59.087406  48.250000\n212  63.672565  65.857143\n213  48.214069  44.500000\n240  60.644054  75.375000\n245  76.554100  74.333333\n267  50.438919  53.750000\n279  53.327934  58.921875\n301  75.335449  72.448276\n307  69.952995  57.818182\n315  51.947594  59.000000\n332  64.544624  67.123077\n334  55.627842  66.367347\n336  55.986973  38.129032\n395  60.833027  60.253333\n407  65.965050  85.482932\n431  41.389557  28.000000\n434  56.764599  65.379310\n450  73.160828  66.294118\n478  63.208843  58.800000\n490  86.463104  80.571429\n497  44.986012  30.000000\n503  76.700455  57.285714\n519  53.182354  62.500000\n520  38.281013  32.375000\n539  61.908936  61.402597\n545  53.549248  55.000000\n578  45.708347  48.200000\n585  69.025543  56.000000\n594  48.740501  49.000000\n597  68.487633  81.875000\n598  59.842648  73.168831\n605  69.744415  52.625000\n618  83.771957  73.875000\n650  76.957672  79.513514\n653  42.617989  30.000000\n663  48.714924  46.000000\n683  61.786877  69.754386\n687  56.823975  72.666667\n698  70.953423  61.276316\n715  63.237114  59.760000\n742  78.394447  69.815789\n768  78.144341  75.880000\n791  45.521858  57.333333\n803  61.944675  79.378378\n804  65.557625  79.378378\n826  30.177361  43.000000\n834  63.991379  61.631579",
      "text/html": "<div>\n<style scoped>\n    .dataframe tbody tr th:only-of-type {\n        vertical-align: middle;\n    }\n\n    .dataframe tbody tr th {\n        vertical-align: top;\n    }\n\n    .dataframe thead th {\n        text-align: right;\n    }\n</style>\n<table border=\"1\" class=\"dataframe\">\n  <thead>\n    <tr style=\"text-align: right;\">\n      <th></th>\n      <th>predicted</th>\n      <th>actual</th>\n    </tr>\n  </thead>\n  <tbody>\n    <tr>\n      <th>6</th>\n      <td>56.923599</td>\n      <td>62.000000</td>\n    </tr>\n    <tr>\n      <th>31</th>\n      <td>54.233852</td>\n      <td>72.000000</td>\n    </tr>\n    <tr>\n      <th>57</th>\n      <td>66.952652</td>\n      <td>49.272727</td>\n    </tr>\n    <tr>\n      <th>65</th>\n      <td>62.650089</td>\n      <td>52.000000</td>\n    </tr>\n    <tr>\n      <th>76</th>\n      <td>63.107349</td>\n      <td>75.000000</td>\n    </tr>\n    <tr>\n      <th>78</th>\n      <td>55.235771</td>\n      <td>56.000000</td>\n    </tr>\n    <tr>\n      <th>147</th>\n      <td>85.282066</td>\n      <td>76.775862</td>\n    </tr>\n    <tr>\n      <th>152</th>\n      <td>65.441010</td>\n      <td>52.000000</td>\n    </tr>\n    <tr>\n      <th>154</th>\n      <td>76.769211</td>\n      <td>58.525424</td>\n    </tr>\n    <tr>\n      <th>163</th>\n      <td>67.037758</td>\n      <td>59.956522</td>\n    </tr>\n    <tr>\n      <th>180</th>\n      <td>68.073212</td>\n      <td>64.120000</td>\n    </tr>\n    <tr>\n      <th>184</th>\n      <td>58.652264</td>\n      <td>75.217391</td>\n    </tr>\n    <tr>\n      <th>201</th>\n      <td>59.087406</td>\n      <td>48.250000</td>\n    </tr>\n    <tr>\n      <th>212</th>\n      <td>63.672565</td>\n      <td>65.857143</td>\n    </tr>\n    <tr>\n      <th>213</th>\n      <td>48.214069</td>\n      <td>44.500000</td>\n    </tr>\n    <tr>\n      <th>240</th>\n      <td>60.644054</td>\n      <td>75.375000</td>\n    </tr>\n    <tr>\n      <th>245</th>\n      <td>76.554100</td>\n      <td>74.333333</td>\n    </tr>\n    <tr>\n      <th>267</th>\n      <td>50.438919</td>\n      <td>53.750000</td>\n    </tr>\n    <tr>\n      <th>279</th>\n      <td>53.327934</td>\n      <td>58.921875</td>\n    </tr>\n    <tr>\n      <th>301</th>\n      <td>75.335449</td>\n      <td>72.448276</td>\n    </tr>\n    <tr>\n      <th>307</th>\n      <td>69.952995</td>\n      <td>57.818182</td>\n    </tr>\n    <tr>\n      <th>315</th>\n      <td>51.947594</td>\n      <td>59.000000</td>\n    </tr>\n    <tr>\n      <th>332</th>\n      <td>64.544624</td>\n      <td>67.123077</td>\n    </tr>\n    <tr>\n      <th>334</th>\n      <td>55.627842</td>\n      <td>66.367347</td>\n    </tr>\n    <tr>\n      <th>336</th>\n      <td>55.986973</td>\n      <td>38.129032</td>\n    </tr>\n    <tr>\n      <th>395</th>\n      <td>60.833027</td>\n      <td>60.253333</td>\n    </tr>\n    <tr>\n      <th>407</th>\n      <td>65.965050</td>\n      <td>85.482932</td>\n    </tr>\n    <tr>\n      <th>431</th>\n      <td>41.389557</td>\n      <td>28.000000</td>\n    </tr>\n    <tr>\n      <th>434</th>\n      <td>56.764599</td>\n      <td>65.379310</td>\n    </tr>\n    <tr>\n      <th>450</th>\n      <td>73.160828</td>\n      <td>66.294118</td>\n    </tr>\n    <tr>\n      <th>478</th>\n      <td>63.208843</td>\n      <td>58.800000</td>\n    </tr>\n    <tr>\n      <th>490</th>\n      <td>86.463104</td>\n      <td>80.571429</td>\n    </tr>\n    <tr>\n      <th>497</th>\n      <td>44.986012</td>\n      <td>30.000000</td>\n    </tr>\n    <tr>\n      <th>503</th>\n      <td>76.700455</td>\n      <td>57.285714</td>\n    </tr>\n    <tr>\n      <th>519</th>\n      <td>53.182354</td>\n      <td>62.500000</td>\n    </tr>\n    <tr>\n      <th>520</th>\n      <td>38.281013</td>\n      <td>32.375000</td>\n    </tr>\n    <tr>\n      <th>539</th>\n      <td>61.908936</td>\n      <td>61.402597</td>\n    </tr>\n    <tr>\n      <th>545</th>\n      <td>53.549248</td>\n      <td>55.000000</td>\n    </tr>\n    <tr>\n      <th>578</th>\n      <td>45.708347</td>\n      <td>48.200000</td>\n    </tr>\n    <tr>\n      <th>585</th>\n      <td>69.025543</td>\n      <td>56.000000</td>\n    </tr>\n    <tr>\n      <th>594</th>\n      <td>48.740501</td>\n      <td>49.000000</td>\n    </tr>\n    <tr>\n      <th>597</th>\n      <td>68.487633</td>\n      <td>81.875000</td>\n    </tr>\n    <tr>\n      <th>598</th>\n      <td>59.842648</td>\n      <td>73.168831</td>\n    </tr>\n    <tr>\n      <th>605</th>\n      <td>69.744415</td>\n      <td>52.625000</td>\n    </tr>\n    <tr>\n      <th>618</th>\n      <td>83.771957</td>\n      <td>73.875000</td>\n    </tr>\n    <tr>\n      <th>650</th>\n      <td>76.957672</td>\n      <td>79.513514</td>\n    </tr>\n    <tr>\n      <th>653</th>\n      <td>42.617989</td>\n      <td>30.000000</td>\n    </tr>\n    <tr>\n      <th>663</th>\n      <td>48.714924</td>\n      <td>46.000000</td>\n    </tr>\n    <tr>\n      <th>683</th>\n      <td>61.786877</td>\n      <td>69.754386</td>\n    </tr>\n    <tr>\n      <th>687</th>\n      <td>56.823975</td>\n      <td>72.666667</td>\n    </tr>\n    <tr>\n      <th>698</th>\n      <td>70.953423</td>\n      <td>61.276316</td>\n    </tr>\n    <tr>\n      <th>715</th>\n      <td>63.237114</td>\n      <td>59.760000</td>\n    </tr>\n    <tr>\n      <th>742</th>\n      <td>78.394447</td>\n      <td>69.815789</td>\n    </tr>\n    <tr>\n      <th>768</th>\n      <td>78.144341</td>\n      <td>75.880000</td>\n    </tr>\n    <tr>\n      <th>791</th>\n      <td>45.521858</td>\n      <td>57.333333</td>\n    </tr>\n    <tr>\n      <th>803</th>\n      <td>61.944675</td>\n      <td>79.378378</td>\n    </tr>\n    <tr>\n      <th>804</th>\n      <td>65.557625</td>\n      <td>79.378378</td>\n    </tr>\n    <tr>\n      <th>826</th>\n      <td>30.177361</td>\n      <td>43.000000</td>\n    </tr>\n    <tr>\n      <th>834</th>\n      <td>63.991379</td>\n      <td>61.631579</td>\n    </tr>\n  </tbody>\n</table>\n</div>"
     },
     "execution_count": 35,
     "metadata": {},
     "output_type": "execute_result"
    }
   ],
   "source": [
    "# show the rows where the 2 columns have a difference of less than 20\n",
    "predictions_df[abs(predictions_df['predicted'] - predictions_df['actual']) < 20]"
   ],
   "metadata": {
    "collapsed": false,
    "ExecuteTime": {
     "end_time": "2024-02-04T16:10:16.499164900Z",
     "start_time": "2024-02-04T16:10:16.460173600Z"
    }
   },
   "id": "7895b51e00ec687b",
   "execution_count": 35
  },
  {
   "cell_type": "code",
   "outputs": [
    {
     "name": "stdout",
     "output_type": "stream",
     "text": [
      "The percentage with a difference of less than 20 is: 70.24 %\n"
     ]
    }
   ],
   "source": [
    "# print the percentage of rows where the 2 columns have a difference of less than 20\n",
    "percentage = len(predictions_df[abs(predictions_df['predicted'] - predictions_df['actual']) < 20]) / len(predictions_df)\n",
    "print('The percentage with a difference of less than 20 is:', round(percentage * 100, 2), '%')"
   ],
   "metadata": {
    "collapsed": false,
    "ExecuteTime": {
     "end_time": "2024-02-04T16:10:16.501162500Z",
     "start_time": "2024-02-04T16:10:16.470697600Z"
    }
   },
   "id": "984a0cf2f3cb4579",
   "execution_count": 36
  }
 ],
 "metadata": {
  "kernelspec": {
   "display_name": "Python 3",
   "language": "python",
   "name": "python3"
  },
  "language_info": {
   "codemirror_mode": {
    "name": "ipython",
    "version": 2
   },
   "file_extension": ".py",
   "mimetype": "text/x-python",
   "name": "python",
   "nbconvert_exporter": "python",
   "pygments_lexer": "ipython2",
   "version": "2.7.6"
  }
 },
 "nbformat": 4,
 "nbformat_minor": 5
}
